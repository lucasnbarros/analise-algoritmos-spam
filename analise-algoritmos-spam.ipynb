{
 "cells": [
  {
   "cell_type": "markdown",
   "metadata": {},
   "source": [
    "# Análise de algoritmos na clasificação de spam"
   ]
  },
  {
   "cell_type": "markdown",
   "metadata": {
    "id": "D4fHEDyhJypG"
   },
   "source": [
    "## Imports, análises e train_test_split"
   ]
  },
  {
   "cell_type": "code",
   "execution_count": null,
   "metadata": {
    "id": "zS-UsU3Sqwiy"
   },
   "outputs": [],
   "source": [
    "import pandas as pd"
   ]
  },
  {
   "cell_type": "code",
   "execution_count": null,
   "metadata": {
    "colab": {
     "base_uri": "https://localhost:8080/"
    },
    "executionInfo": {
     "elapsed": 1072,
     "status": "ok",
     "timestamp": 1605659611650,
     "user": {
      "displayName": "Lucas Nascimento Barros",
      "photoUrl": "https://lh3.googleusercontent.com/a-/AOh14GgMbOheZVKIMjmrihjT2Y24WMIzMgfqdI5Qu3pY=s64",
      "userId": "06035058941685765175"
     },
     "user_tz": 180
    },
    "id": "f4E2wk3nq4LI",
    "outputId": "f60c46f0-4ab3-4f28-a5cc-03a756346a51"
   },
   "outputs": [
    {
     "name": "stdout",
     "output_type": "stream",
     "text": [
      "Drive already mounted at /content/gdrive; to attempt to forcibly remount, call drive.mount(\"/content/gdrive\", force_remount=True).\n"
     ]
    }
   ],
   "source": [
    "columns_name = ['word_freq_' + str(i) for i in range(1, 49)]+ ['char_freq_' + str(i) for i in range(1, 7)] + ['capital_run_length_average','capital_run_length_longest','capital_run_length_total'] + ['class_']\n",
    "from google.colab import drive\n",
    "drive.mount('/content/gdrive')\n",
    "df_spam = pd.read_csv(\"/content/gdrive/My Drive/Colab Notebooks/Machine Learning/Bases/spambase.data\",names=columns_name)"
   ]
  },
  {
   "cell_type": "code",
   "execution_count": null,
   "metadata": {
    "colab": {
     "base_uri": "https://localhost:8080/",
     "height": 439
    },
    "executionInfo": {
     "elapsed": 1065,
     "status": "ok",
     "timestamp": 1605659611652,
     "user": {
      "displayName": "Lucas Nascimento Barros",
      "photoUrl": "https://lh3.googleusercontent.com/a-/AOh14GgMbOheZVKIMjmrihjT2Y24WMIzMgfqdI5Qu3pY=s64",
      "userId": "06035058941685765175"
     },
     "user_tz": 180
    },
    "id": "NH90Aj-8KKSw",
    "outputId": "916e2bb2-9c83-48a4-8dce-ffe841894ff7"
   },
   "outputs": [
    {
     "data": {
      "text/html": [
       "<div>\n",
       "<style scoped>\n",
       "    .dataframe tbody tr th:only-of-type {\n",
       "        vertical-align: middle;\n",
       "    }\n",
       "\n",
       "    .dataframe tbody tr th {\n",
       "        vertical-align: top;\n",
       "    }\n",
       "\n",
       "    .dataframe thead th {\n",
       "        text-align: right;\n",
       "    }\n",
       "</style>\n",
       "<table border=\"1\" class=\"dataframe\">\n",
       "  <thead>\n",
       "    <tr style=\"text-align: right;\">\n",
       "      <th></th>\n",
       "      <th>word_freq_1</th>\n",
       "      <th>word_freq_2</th>\n",
       "      <th>word_freq_3</th>\n",
       "      <th>word_freq_4</th>\n",
       "      <th>word_freq_5</th>\n",
       "      <th>word_freq_6</th>\n",
       "      <th>word_freq_7</th>\n",
       "      <th>word_freq_8</th>\n",
       "      <th>word_freq_9</th>\n",
       "      <th>word_freq_10</th>\n",
       "      <th>word_freq_11</th>\n",
       "      <th>word_freq_12</th>\n",
       "      <th>word_freq_13</th>\n",
       "      <th>word_freq_14</th>\n",
       "      <th>word_freq_15</th>\n",
       "      <th>word_freq_16</th>\n",
       "      <th>word_freq_17</th>\n",
       "      <th>word_freq_18</th>\n",
       "      <th>word_freq_19</th>\n",
       "      <th>word_freq_20</th>\n",
       "      <th>word_freq_21</th>\n",
       "      <th>word_freq_22</th>\n",
       "      <th>word_freq_23</th>\n",
       "      <th>word_freq_24</th>\n",
       "      <th>word_freq_25</th>\n",
       "      <th>word_freq_26</th>\n",
       "      <th>word_freq_27</th>\n",
       "      <th>word_freq_28</th>\n",
       "      <th>word_freq_29</th>\n",
       "      <th>word_freq_30</th>\n",
       "      <th>word_freq_31</th>\n",
       "      <th>word_freq_32</th>\n",
       "      <th>word_freq_33</th>\n",
       "      <th>word_freq_34</th>\n",
       "      <th>word_freq_35</th>\n",
       "      <th>word_freq_36</th>\n",
       "      <th>word_freq_37</th>\n",
       "      <th>word_freq_38</th>\n",
       "      <th>word_freq_39</th>\n",
       "      <th>word_freq_40</th>\n",
       "      <th>word_freq_41</th>\n",
       "      <th>word_freq_42</th>\n",
       "      <th>word_freq_43</th>\n",
       "      <th>word_freq_44</th>\n",
       "      <th>word_freq_45</th>\n",
       "      <th>word_freq_46</th>\n",
       "      <th>word_freq_47</th>\n",
       "      <th>word_freq_48</th>\n",
       "      <th>char_freq_1</th>\n",
       "      <th>char_freq_2</th>\n",
       "      <th>char_freq_3</th>\n",
       "      <th>char_freq_4</th>\n",
       "      <th>char_freq_5</th>\n",
       "      <th>char_freq_6</th>\n",
       "      <th>capital_run_length_average</th>\n",
       "      <th>capital_run_length_longest</th>\n",
       "      <th>capital_run_length_total</th>\n",
       "      <th>class_</th>\n",
       "    </tr>\n",
       "  </thead>\n",
       "  <tbody>\n",
       "    <tr>\n",
       "      <th>0</th>\n",
       "      <td>0.00</td>\n",
       "      <td>0.64</td>\n",
       "      <td>0.64</td>\n",
       "      <td>0.0</td>\n",
       "      <td>0.32</td>\n",
       "      <td>0.00</td>\n",
       "      <td>0.00</td>\n",
       "      <td>0.00</td>\n",
       "      <td>0.00</td>\n",
       "      <td>0.00</td>\n",
       "      <td>0.00</td>\n",
       "      <td>0.64</td>\n",
       "      <td>0.00</td>\n",
       "      <td>0.00</td>\n",
       "      <td>0.00</td>\n",
       "      <td>0.32</td>\n",
       "      <td>0.00</td>\n",
       "      <td>1.29</td>\n",
       "      <td>1.93</td>\n",
       "      <td>0.00</td>\n",
       "      <td>0.96</td>\n",
       "      <td>0.0</td>\n",
       "      <td>0.00</td>\n",
       "      <td>0.00</td>\n",
       "      <td>0.0</td>\n",
       "      <td>0.0</td>\n",
       "      <td>0.0</td>\n",
       "      <td>0.0</td>\n",
       "      <td>0.0</td>\n",
       "      <td>0.0</td>\n",
       "      <td>0.0</td>\n",
       "      <td>0.0</td>\n",
       "      <td>0.0</td>\n",
       "      <td>0.0</td>\n",
       "      <td>0.0</td>\n",
       "      <td>0.0</td>\n",
       "      <td>0.00</td>\n",
       "      <td>0.0</td>\n",
       "      <td>0.0</td>\n",
       "      <td>0.00</td>\n",
       "      <td>0.0</td>\n",
       "      <td>0.0</td>\n",
       "      <td>0.00</td>\n",
       "      <td>0.00</td>\n",
       "      <td>0.00</td>\n",
       "      <td>0.00</td>\n",
       "      <td>0.0</td>\n",
       "      <td>0.0</td>\n",
       "      <td>0.000</td>\n",
       "      <td>0.000</td>\n",
       "      <td>0.0</td>\n",
       "      <td>0.778</td>\n",
       "      <td>0.000</td>\n",
       "      <td>0.000</td>\n",
       "      <td>3.756</td>\n",
       "      <td>61</td>\n",
       "      <td>278</td>\n",
       "      <td>1</td>\n",
       "    </tr>\n",
       "    <tr>\n",
       "      <th>1</th>\n",
       "      <td>0.21</td>\n",
       "      <td>0.28</td>\n",
       "      <td>0.50</td>\n",
       "      <td>0.0</td>\n",
       "      <td>0.14</td>\n",
       "      <td>0.28</td>\n",
       "      <td>0.21</td>\n",
       "      <td>0.07</td>\n",
       "      <td>0.00</td>\n",
       "      <td>0.94</td>\n",
       "      <td>0.21</td>\n",
       "      <td>0.79</td>\n",
       "      <td>0.65</td>\n",
       "      <td>0.21</td>\n",
       "      <td>0.14</td>\n",
       "      <td>0.14</td>\n",
       "      <td>0.07</td>\n",
       "      <td>0.28</td>\n",
       "      <td>3.47</td>\n",
       "      <td>0.00</td>\n",
       "      <td>1.59</td>\n",
       "      <td>0.0</td>\n",
       "      <td>0.43</td>\n",
       "      <td>0.43</td>\n",
       "      <td>0.0</td>\n",
       "      <td>0.0</td>\n",
       "      <td>0.0</td>\n",
       "      <td>0.0</td>\n",
       "      <td>0.0</td>\n",
       "      <td>0.0</td>\n",
       "      <td>0.0</td>\n",
       "      <td>0.0</td>\n",
       "      <td>0.0</td>\n",
       "      <td>0.0</td>\n",
       "      <td>0.0</td>\n",
       "      <td>0.0</td>\n",
       "      <td>0.07</td>\n",
       "      <td>0.0</td>\n",
       "      <td>0.0</td>\n",
       "      <td>0.00</td>\n",
       "      <td>0.0</td>\n",
       "      <td>0.0</td>\n",
       "      <td>0.00</td>\n",
       "      <td>0.00</td>\n",
       "      <td>0.00</td>\n",
       "      <td>0.00</td>\n",
       "      <td>0.0</td>\n",
       "      <td>0.0</td>\n",
       "      <td>0.000</td>\n",
       "      <td>0.132</td>\n",
       "      <td>0.0</td>\n",
       "      <td>0.372</td>\n",
       "      <td>0.180</td>\n",
       "      <td>0.048</td>\n",
       "      <td>5.114</td>\n",
       "      <td>101</td>\n",
       "      <td>1028</td>\n",
       "      <td>1</td>\n",
       "    </tr>\n",
       "    <tr>\n",
       "      <th>2</th>\n",
       "      <td>0.06</td>\n",
       "      <td>0.00</td>\n",
       "      <td>0.71</td>\n",
       "      <td>0.0</td>\n",
       "      <td>1.23</td>\n",
       "      <td>0.19</td>\n",
       "      <td>0.19</td>\n",
       "      <td>0.12</td>\n",
       "      <td>0.64</td>\n",
       "      <td>0.25</td>\n",
       "      <td>0.38</td>\n",
       "      <td>0.45</td>\n",
       "      <td>0.12</td>\n",
       "      <td>0.00</td>\n",
       "      <td>1.75</td>\n",
       "      <td>0.06</td>\n",
       "      <td>0.06</td>\n",
       "      <td>1.03</td>\n",
       "      <td>1.36</td>\n",
       "      <td>0.32</td>\n",
       "      <td>0.51</td>\n",
       "      <td>0.0</td>\n",
       "      <td>1.16</td>\n",
       "      <td>0.06</td>\n",
       "      <td>0.0</td>\n",
       "      <td>0.0</td>\n",
       "      <td>0.0</td>\n",
       "      <td>0.0</td>\n",
       "      <td>0.0</td>\n",
       "      <td>0.0</td>\n",
       "      <td>0.0</td>\n",
       "      <td>0.0</td>\n",
       "      <td>0.0</td>\n",
       "      <td>0.0</td>\n",
       "      <td>0.0</td>\n",
       "      <td>0.0</td>\n",
       "      <td>0.00</td>\n",
       "      <td>0.0</td>\n",
       "      <td>0.0</td>\n",
       "      <td>0.06</td>\n",
       "      <td>0.0</td>\n",
       "      <td>0.0</td>\n",
       "      <td>0.12</td>\n",
       "      <td>0.00</td>\n",
       "      <td>0.06</td>\n",
       "      <td>0.06</td>\n",
       "      <td>0.0</td>\n",
       "      <td>0.0</td>\n",
       "      <td>0.010</td>\n",
       "      <td>0.143</td>\n",
       "      <td>0.0</td>\n",
       "      <td>0.276</td>\n",
       "      <td>0.184</td>\n",
       "      <td>0.010</td>\n",
       "      <td>9.821</td>\n",
       "      <td>485</td>\n",
       "      <td>2259</td>\n",
       "      <td>1</td>\n",
       "    </tr>\n",
       "    <tr>\n",
       "      <th>3</th>\n",
       "      <td>0.00</td>\n",
       "      <td>0.00</td>\n",
       "      <td>0.00</td>\n",
       "      <td>0.0</td>\n",
       "      <td>0.63</td>\n",
       "      <td>0.00</td>\n",
       "      <td>0.31</td>\n",
       "      <td>0.63</td>\n",
       "      <td>0.31</td>\n",
       "      <td>0.63</td>\n",
       "      <td>0.31</td>\n",
       "      <td>0.31</td>\n",
       "      <td>0.31</td>\n",
       "      <td>0.00</td>\n",
       "      <td>0.00</td>\n",
       "      <td>0.31</td>\n",
       "      <td>0.00</td>\n",
       "      <td>0.00</td>\n",
       "      <td>3.18</td>\n",
       "      <td>0.00</td>\n",
       "      <td>0.31</td>\n",
       "      <td>0.0</td>\n",
       "      <td>0.00</td>\n",
       "      <td>0.00</td>\n",
       "      <td>0.0</td>\n",
       "      <td>0.0</td>\n",
       "      <td>0.0</td>\n",
       "      <td>0.0</td>\n",
       "      <td>0.0</td>\n",
       "      <td>0.0</td>\n",
       "      <td>0.0</td>\n",
       "      <td>0.0</td>\n",
       "      <td>0.0</td>\n",
       "      <td>0.0</td>\n",
       "      <td>0.0</td>\n",
       "      <td>0.0</td>\n",
       "      <td>0.00</td>\n",
       "      <td>0.0</td>\n",
       "      <td>0.0</td>\n",
       "      <td>0.00</td>\n",
       "      <td>0.0</td>\n",
       "      <td>0.0</td>\n",
       "      <td>0.00</td>\n",
       "      <td>0.00</td>\n",
       "      <td>0.00</td>\n",
       "      <td>0.00</td>\n",
       "      <td>0.0</td>\n",
       "      <td>0.0</td>\n",
       "      <td>0.000</td>\n",
       "      <td>0.137</td>\n",
       "      <td>0.0</td>\n",
       "      <td>0.137</td>\n",
       "      <td>0.000</td>\n",
       "      <td>0.000</td>\n",
       "      <td>3.537</td>\n",
       "      <td>40</td>\n",
       "      <td>191</td>\n",
       "      <td>1</td>\n",
       "    </tr>\n",
       "    <tr>\n",
       "      <th>4</th>\n",
       "      <td>0.00</td>\n",
       "      <td>0.00</td>\n",
       "      <td>0.00</td>\n",
       "      <td>0.0</td>\n",
       "      <td>0.63</td>\n",
       "      <td>0.00</td>\n",
       "      <td>0.31</td>\n",
       "      <td>0.63</td>\n",
       "      <td>0.31</td>\n",
       "      <td>0.63</td>\n",
       "      <td>0.31</td>\n",
       "      <td>0.31</td>\n",
       "      <td>0.31</td>\n",
       "      <td>0.00</td>\n",
       "      <td>0.00</td>\n",
       "      <td>0.31</td>\n",
       "      <td>0.00</td>\n",
       "      <td>0.00</td>\n",
       "      <td>3.18</td>\n",
       "      <td>0.00</td>\n",
       "      <td>0.31</td>\n",
       "      <td>0.0</td>\n",
       "      <td>0.00</td>\n",
       "      <td>0.00</td>\n",
       "      <td>0.0</td>\n",
       "      <td>0.0</td>\n",
       "      <td>0.0</td>\n",
       "      <td>0.0</td>\n",
       "      <td>0.0</td>\n",
       "      <td>0.0</td>\n",
       "      <td>0.0</td>\n",
       "      <td>0.0</td>\n",
       "      <td>0.0</td>\n",
       "      <td>0.0</td>\n",
       "      <td>0.0</td>\n",
       "      <td>0.0</td>\n",
       "      <td>0.00</td>\n",
       "      <td>0.0</td>\n",
       "      <td>0.0</td>\n",
       "      <td>0.00</td>\n",
       "      <td>0.0</td>\n",
       "      <td>0.0</td>\n",
       "      <td>0.00</td>\n",
       "      <td>0.00</td>\n",
       "      <td>0.00</td>\n",
       "      <td>0.00</td>\n",
       "      <td>0.0</td>\n",
       "      <td>0.0</td>\n",
       "      <td>0.000</td>\n",
       "      <td>0.135</td>\n",
       "      <td>0.0</td>\n",
       "      <td>0.135</td>\n",
       "      <td>0.000</td>\n",
       "      <td>0.000</td>\n",
       "      <td>3.537</td>\n",
       "      <td>40</td>\n",
       "      <td>191</td>\n",
       "      <td>1</td>\n",
       "    </tr>\n",
       "    <tr>\n",
       "      <th>...</th>\n",
       "      <td>...</td>\n",
       "      <td>...</td>\n",
       "      <td>...</td>\n",
       "      <td>...</td>\n",
       "      <td>...</td>\n",
       "      <td>...</td>\n",
       "      <td>...</td>\n",
       "      <td>...</td>\n",
       "      <td>...</td>\n",
       "      <td>...</td>\n",
       "      <td>...</td>\n",
       "      <td>...</td>\n",
       "      <td>...</td>\n",
       "      <td>...</td>\n",
       "      <td>...</td>\n",
       "      <td>...</td>\n",
       "      <td>...</td>\n",
       "      <td>...</td>\n",
       "      <td>...</td>\n",
       "      <td>...</td>\n",
       "      <td>...</td>\n",
       "      <td>...</td>\n",
       "      <td>...</td>\n",
       "      <td>...</td>\n",
       "      <td>...</td>\n",
       "      <td>...</td>\n",
       "      <td>...</td>\n",
       "      <td>...</td>\n",
       "      <td>...</td>\n",
       "      <td>...</td>\n",
       "      <td>...</td>\n",
       "      <td>...</td>\n",
       "      <td>...</td>\n",
       "      <td>...</td>\n",
       "      <td>...</td>\n",
       "      <td>...</td>\n",
       "      <td>...</td>\n",
       "      <td>...</td>\n",
       "      <td>...</td>\n",
       "      <td>...</td>\n",
       "      <td>...</td>\n",
       "      <td>...</td>\n",
       "      <td>...</td>\n",
       "      <td>...</td>\n",
       "      <td>...</td>\n",
       "      <td>...</td>\n",
       "      <td>...</td>\n",
       "      <td>...</td>\n",
       "      <td>...</td>\n",
       "      <td>...</td>\n",
       "      <td>...</td>\n",
       "      <td>...</td>\n",
       "      <td>...</td>\n",
       "      <td>...</td>\n",
       "      <td>...</td>\n",
       "      <td>...</td>\n",
       "      <td>...</td>\n",
       "      <td>...</td>\n",
       "    </tr>\n",
       "    <tr>\n",
       "      <th>4596</th>\n",
       "      <td>0.31</td>\n",
       "      <td>0.00</td>\n",
       "      <td>0.62</td>\n",
       "      <td>0.0</td>\n",
       "      <td>0.00</td>\n",
       "      <td>0.31</td>\n",
       "      <td>0.00</td>\n",
       "      <td>0.00</td>\n",
       "      <td>0.00</td>\n",
       "      <td>0.00</td>\n",
       "      <td>0.00</td>\n",
       "      <td>1.88</td>\n",
       "      <td>0.00</td>\n",
       "      <td>0.00</td>\n",
       "      <td>0.00</td>\n",
       "      <td>0.00</td>\n",
       "      <td>0.00</td>\n",
       "      <td>0.00</td>\n",
       "      <td>0.62</td>\n",
       "      <td>0.00</td>\n",
       "      <td>0.00</td>\n",
       "      <td>0.0</td>\n",
       "      <td>0.00</td>\n",
       "      <td>0.00</td>\n",
       "      <td>0.0</td>\n",
       "      <td>0.0</td>\n",
       "      <td>0.0</td>\n",
       "      <td>0.0</td>\n",
       "      <td>0.0</td>\n",
       "      <td>0.0</td>\n",
       "      <td>0.0</td>\n",
       "      <td>0.0</td>\n",
       "      <td>0.0</td>\n",
       "      <td>0.0</td>\n",
       "      <td>0.0</td>\n",
       "      <td>0.0</td>\n",
       "      <td>0.00</td>\n",
       "      <td>0.0</td>\n",
       "      <td>0.0</td>\n",
       "      <td>0.00</td>\n",
       "      <td>0.0</td>\n",
       "      <td>0.0</td>\n",
       "      <td>0.00</td>\n",
       "      <td>0.31</td>\n",
       "      <td>0.31</td>\n",
       "      <td>0.31</td>\n",
       "      <td>0.0</td>\n",
       "      <td>0.0</td>\n",
       "      <td>0.000</td>\n",
       "      <td>0.232</td>\n",
       "      <td>0.0</td>\n",
       "      <td>0.000</td>\n",
       "      <td>0.000</td>\n",
       "      <td>0.000</td>\n",
       "      <td>1.142</td>\n",
       "      <td>3</td>\n",
       "      <td>88</td>\n",
       "      <td>0</td>\n",
       "    </tr>\n",
       "    <tr>\n",
       "      <th>4597</th>\n",
       "      <td>0.00</td>\n",
       "      <td>0.00</td>\n",
       "      <td>0.00</td>\n",
       "      <td>0.0</td>\n",
       "      <td>0.00</td>\n",
       "      <td>0.00</td>\n",
       "      <td>0.00</td>\n",
       "      <td>0.00</td>\n",
       "      <td>0.00</td>\n",
       "      <td>0.00</td>\n",
       "      <td>0.00</td>\n",
       "      <td>0.00</td>\n",
       "      <td>0.00</td>\n",
       "      <td>0.00</td>\n",
       "      <td>0.00</td>\n",
       "      <td>0.00</td>\n",
       "      <td>0.00</td>\n",
       "      <td>0.00</td>\n",
       "      <td>6.00</td>\n",
       "      <td>0.00</td>\n",
       "      <td>2.00</td>\n",
       "      <td>0.0</td>\n",
       "      <td>0.00</td>\n",
       "      <td>0.00</td>\n",
       "      <td>0.0</td>\n",
       "      <td>0.0</td>\n",
       "      <td>0.0</td>\n",
       "      <td>0.0</td>\n",
       "      <td>0.0</td>\n",
       "      <td>0.0</td>\n",
       "      <td>0.0</td>\n",
       "      <td>0.0</td>\n",
       "      <td>0.0</td>\n",
       "      <td>0.0</td>\n",
       "      <td>0.0</td>\n",
       "      <td>0.0</td>\n",
       "      <td>0.00</td>\n",
       "      <td>0.0</td>\n",
       "      <td>0.0</td>\n",
       "      <td>0.00</td>\n",
       "      <td>0.0</td>\n",
       "      <td>0.0</td>\n",
       "      <td>0.00</td>\n",
       "      <td>0.00</td>\n",
       "      <td>0.00</td>\n",
       "      <td>2.00</td>\n",
       "      <td>0.0</td>\n",
       "      <td>0.0</td>\n",
       "      <td>0.000</td>\n",
       "      <td>0.000</td>\n",
       "      <td>0.0</td>\n",
       "      <td>0.353</td>\n",
       "      <td>0.000</td>\n",
       "      <td>0.000</td>\n",
       "      <td>1.555</td>\n",
       "      <td>4</td>\n",
       "      <td>14</td>\n",
       "      <td>0</td>\n",
       "    </tr>\n",
       "    <tr>\n",
       "      <th>4598</th>\n",
       "      <td>0.30</td>\n",
       "      <td>0.00</td>\n",
       "      <td>0.30</td>\n",
       "      <td>0.0</td>\n",
       "      <td>0.00</td>\n",
       "      <td>0.00</td>\n",
       "      <td>0.00</td>\n",
       "      <td>0.00</td>\n",
       "      <td>0.00</td>\n",
       "      <td>0.00</td>\n",
       "      <td>0.00</td>\n",
       "      <td>1.80</td>\n",
       "      <td>0.30</td>\n",
       "      <td>0.00</td>\n",
       "      <td>0.00</td>\n",
       "      <td>0.00</td>\n",
       "      <td>0.00</td>\n",
       "      <td>0.90</td>\n",
       "      <td>1.50</td>\n",
       "      <td>0.00</td>\n",
       "      <td>0.30</td>\n",
       "      <td>0.0</td>\n",
       "      <td>0.00</td>\n",
       "      <td>0.00</td>\n",
       "      <td>0.0</td>\n",
       "      <td>0.0</td>\n",
       "      <td>0.0</td>\n",
       "      <td>0.0</td>\n",
       "      <td>0.0</td>\n",
       "      <td>0.0</td>\n",
       "      <td>0.0</td>\n",
       "      <td>0.0</td>\n",
       "      <td>0.0</td>\n",
       "      <td>0.0</td>\n",
       "      <td>0.0</td>\n",
       "      <td>0.0</td>\n",
       "      <td>0.00</td>\n",
       "      <td>0.0</td>\n",
       "      <td>0.0</td>\n",
       "      <td>0.00</td>\n",
       "      <td>0.0</td>\n",
       "      <td>0.0</td>\n",
       "      <td>0.00</td>\n",
       "      <td>0.00</td>\n",
       "      <td>0.00</td>\n",
       "      <td>1.20</td>\n",
       "      <td>0.0</td>\n",
       "      <td>0.0</td>\n",
       "      <td>0.102</td>\n",
       "      <td>0.718</td>\n",
       "      <td>0.0</td>\n",
       "      <td>0.000</td>\n",
       "      <td>0.000</td>\n",
       "      <td>0.000</td>\n",
       "      <td>1.404</td>\n",
       "      <td>6</td>\n",
       "      <td>118</td>\n",
       "      <td>0</td>\n",
       "    </tr>\n",
       "    <tr>\n",
       "      <th>4599</th>\n",
       "      <td>0.96</td>\n",
       "      <td>0.00</td>\n",
       "      <td>0.00</td>\n",
       "      <td>0.0</td>\n",
       "      <td>0.32</td>\n",
       "      <td>0.00</td>\n",
       "      <td>0.00</td>\n",
       "      <td>0.00</td>\n",
       "      <td>0.00</td>\n",
       "      <td>0.00</td>\n",
       "      <td>0.00</td>\n",
       "      <td>0.32</td>\n",
       "      <td>0.00</td>\n",
       "      <td>0.00</td>\n",
       "      <td>0.00</td>\n",
       "      <td>0.00</td>\n",
       "      <td>0.00</td>\n",
       "      <td>0.00</td>\n",
       "      <td>1.93</td>\n",
       "      <td>0.00</td>\n",
       "      <td>0.32</td>\n",
       "      <td>0.0</td>\n",
       "      <td>0.00</td>\n",
       "      <td>0.00</td>\n",
       "      <td>0.0</td>\n",
       "      <td>0.0</td>\n",
       "      <td>0.0</td>\n",
       "      <td>0.0</td>\n",
       "      <td>0.0</td>\n",
       "      <td>0.0</td>\n",
       "      <td>0.0</td>\n",
       "      <td>0.0</td>\n",
       "      <td>0.0</td>\n",
       "      <td>0.0</td>\n",
       "      <td>0.0</td>\n",
       "      <td>0.0</td>\n",
       "      <td>0.00</td>\n",
       "      <td>0.0</td>\n",
       "      <td>0.0</td>\n",
       "      <td>0.00</td>\n",
       "      <td>0.0</td>\n",
       "      <td>0.0</td>\n",
       "      <td>0.00</td>\n",
       "      <td>0.32</td>\n",
       "      <td>0.00</td>\n",
       "      <td>0.32</td>\n",
       "      <td>0.0</td>\n",
       "      <td>0.0</td>\n",
       "      <td>0.000</td>\n",
       "      <td>0.057</td>\n",
       "      <td>0.0</td>\n",
       "      <td>0.000</td>\n",
       "      <td>0.000</td>\n",
       "      <td>0.000</td>\n",
       "      <td>1.147</td>\n",
       "      <td>5</td>\n",
       "      <td>78</td>\n",
       "      <td>0</td>\n",
       "    </tr>\n",
       "    <tr>\n",
       "      <th>4600</th>\n",
       "      <td>0.00</td>\n",
       "      <td>0.00</td>\n",
       "      <td>0.65</td>\n",
       "      <td>0.0</td>\n",
       "      <td>0.00</td>\n",
       "      <td>0.00</td>\n",
       "      <td>0.00</td>\n",
       "      <td>0.00</td>\n",
       "      <td>0.00</td>\n",
       "      <td>0.00</td>\n",
       "      <td>0.00</td>\n",
       "      <td>0.00</td>\n",
       "      <td>0.65</td>\n",
       "      <td>0.00</td>\n",
       "      <td>0.00</td>\n",
       "      <td>0.00</td>\n",
       "      <td>0.00</td>\n",
       "      <td>0.00</td>\n",
       "      <td>4.60</td>\n",
       "      <td>0.00</td>\n",
       "      <td>0.65</td>\n",
       "      <td>0.0</td>\n",
       "      <td>0.00</td>\n",
       "      <td>0.00</td>\n",
       "      <td>0.0</td>\n",
       "      <td>0.0</td>\n",
       "      <td>0.0</td>\n",
       "      <td>0.0</td>\n",
       "      <td>0.0</td>\n",
       "      <td>0.0</td>\n",
       "      <td>0.0</td>\n",
       "      <td>0.0</td>\n",
       "      <td>0.0</td>\n",
       "      <td>0.0</td>\n",
       "      <td>0.0</td>\n",
       "      <td>0.0</td>\n",
       "      <td>0.00</td>\n",
       "      <td>0.0</td>\n",
       "      <td>0.0</td>\n",
       "      <td>0.00</td>\n",
       "      <td>0.0</td>\n",
       "      <td>0.0</td>\n",
       "      <td>0.00</td>\n",
       "      <td>0.00</td>\n",
       "      <td>1.97</td>\n",
       "      <td>0.65</td>\n",
       "      <td>0.0</td>\n",
       "      <td>0.0</td>\n",
       "      <td>0.000</td>\n",
       "      <td>0.000</td>\n",
       "      <td>0.0</td>\n",
       "      <td>0.125</td>\n",
       "      <td>0.000</td>\n",
       "      <td>0.000</td>\n",
       "      <td>1.250</td>\n",
       "      <td>5</td>\n",
       "      <td>40</td>\n",
       "      <td>0</td>\n",
       "    </tr>\n",
       "  </tbody>\n",
       "</table>\n",
       "<p>4601 rows × 58 columns</p>\n",
       "</div>"
      ],
      "text/plain": [
       "      word_freq_1  word_freq_2  ...  capital_run_length_total  class_\n",
       "0            0.00         0.64  ...                       278       1\n",
       "1            0.21         0.28  ...                      1028       1\n",
       "2            0.06         0.00  ...                      2259       1\n",
       "3            0.00         0.00  ...                       191       1\n",
       "4            0.00         0.00  ...                       191       1\n",
       "...           ...          ...  ...                       ...     ...\n",
       "4596         0.31         0.00  ...                        88       0\n",
       "4597         0.00         0.00  ...                        14       0\n",
       "4598         0.30         0.00  ...                       118       0\n",
       "4599         0.96         0.00  ...                        78       0\n",
       "4600         0.00         0.00  ...                        40       0\n",
       "\n",
       "[4601 rows x 58 columns]"
      ]
     },
     "execution_count": 39,
     "metadata": {
      "tags": []
     },
     "output_type": "execute_result"
    }
   ],
   "source": [
    "df_spam"
   ]
  },
  {
   "cell_type": "code",
   "execution_count": null,
   "metadata": {
    "colab": {
     "base_uri": "https://localhost:8080/"
    },
    "executionInfo": {
     "elapsed": 1056,
     "status": "ok",
     "timestamp": 1605659611653,
     "user": {
      "displayName": "Lucas Nascimento Barros",
      "photoUrl": "https://lh3.googleusercontent.com/a-/AOh14GgMbOheZVKIMjmrihjT2Y24WMIzMgfqdI5Qu3pY=s64",
      "userId": "06035058941685765175"
     },
     "user_tz": 180
    },
    "id": "83Updd35lTzF",
    "outputId": "127bb6ae-cc8b-4ed9-f404-6ae1baa1df87"
   },
   "outputs": [
    {
     "name": "stdout",
     "output_type": "stream",
     "text": [
      "<class 'pandas.core.frame.DataFrame'>\n",
      "RangeIndex: 4601 entries, 0 to 4600\n",
      "Data columns (total 58 columns):\n",
      " #   Column                      Non-Null Count  Dtype  \n",
      "---  ------                      --------------  -----  \n",
      " 0   word_freq_1                 4601 non-null   float64\n",
      " 1   word_freq_2                 4601 non-null   float64\n",
      " 2   word_freq_3                 4601 non-null   float64\n",
      " 3   word_freq_4                 4601 non-null   float64\n",
      " 4   word_freq_5                 4601 non-null   float64\n",
      " 5   word_freq_6                 4601 non-null   float64\n",
      " 6   word_freq_7                 4601 non-null   float64\n",
      " 7   word_freq_8                 4601 non-null   float64\n",
      " 8   word_freq_9                 4601 non-null   float64\n",
      " 9   word_freq_10                4601 non-null   float64\n",
      " 10  word_freq_11                4601 non-null   float64\n",
      " 11  word_freq_12                4601 non-null   float64\n",
      " 12  word_freq_13                4601 non-null   float64\n",
      " 13  word_freq_14                4601 non-null   float64\n",
      " 14  word_freq_15                4601 non-null   float64\n",
      " 15  word_freq_16                4601 non-null   float64\n",
      " 16  word_freq_17                4601 non-null   float64\n",
      " 17  word_freq_18                4601 non-null   float64\n",
      " 18  word_freq_19                4601 non-null   float64\n",
      " 19  word_freq_20                4601 non-null   float64\n",
      " 20  word_freq_21                4601 non-null   float64\n",
      " 21  word_freq_22                4601 non-null   float64\n",
      " 22  word_freq_23                4601 non-null   float64\n",
      " 23  word_freq_24                4601 non-null   float64\n",
      " 24  word_freq_25                4601 non-null   float64\n",
      " 25  word_freq_26                4601 non-null   float64\n",
      " 26  word_freq_27                4601 non-null   float64\n",
      " 27  word_freq_28                4601 non-null   float64\n",
      " 28  word_freq_29                4601 non-null   float64\n",
      " 29  word_freq_30                4601 non-null   float64\n",
      " 30  word_freq_31                4601 non-null   float64\n",
      " 31  word_freq_32                4601 non-null   float64\n",
      " 32  word_freq_33                4601 non-null   float64\n",
      " 33  word_freq_34                4601 non-null   float64\n",
      " 34  word_freq_35                4601 non-null   float64\n",
      " 35  word_freq_36                4601 non-null   float64\n",
      " 36  word_freq_37                4601 non-null   float64\n",
      " 37  word_freq_38                4601 non-null   float64\n",
      " 38  word_freq_39                4601 non-null   float64\n",
      " 39  word_freq_40                4601 non-null   float64\n",
      " 40  word_freq_41                4601 non-null   float64\n",
      " 41  word_freq_42                4601 non-null   float64\n",
      " 42  word_freq_43                4601 non-null   float64\n",
      " 43  word_freq_44                4601 non-null   float64\n",
      " 44  word_freq_45                4601 non-null   float64\n",
      " 45  word_freq_46                4601 non-null   float64\n",
      " 46  word_freq_47                4601 non-null   float64\n",
      " 47  word_freq_48                4601 non-null   float64\n",
      " 48  char_freq_1                 4601 non-null   float64\n",
      " 49  char_freq_2                 4601 non-null   float64\n",
      " 50  char_freq_3                 4601 non-null   float64\n",
      " 51  char_freq_4                 4601 non-null   float64\n",
      " 52  char_freq_5                 4601 non-null   float64\n",
      " 53  char_freq_6                 4601 non-null   float64\n",
      " 54  capital_run_length_average  4601 non-null   float64\n",
      " 55  capital_run_length_longest  4601 non-null   int64  \n",
      " 56  capital_run_length_total    4601 non-null   int64  \n",
      " 57  class_                      4601 non-null   int64  \n",
      "dtypes: float64(55), int64(3)\n",
      "memory usage: 2.0 MB\n"
     ]
    }
   ],
   "source": [
    "df_spam.info()"
   ]
  },
  {
   "cell_type": "code",
   "execution_count": null,
   "metadata": {
    "colab": {
     "base_uri": "https://localhost:8080/",
     "height": 471
    },
    "executionInfo": {
     "elapsed": 1047,
     "status": "ok",
     "timestamp": 1605659611654,
     "user": {
      "displayName": "Lucas Nascimento Barros",
      "photoUrl": "https://lh3.googleusercontent.com/a-/AOh14GgMbOheZVKIMjmrihjT2Y24WMIzMgfqdI5Qu3pY=s64",
      "userId": "06035058941685765175"
     },
     "user_tz": 180
    },
    "id": "DUfAUWpPomEO",
    "outputId": "dfbc5cf2-e9e0-48d5-e18e-759af7219a79"
   },
   "outputs": [
    {
     "name": "stdout",
     "output_type": "stream",
     "text": [
      "0    2788\n",
      "1    1813\n",
      "Name: class_, dtype: int64\n",
      "\n",
      "0    0.605955\n",
      "1    0.394045\n",
      "Name: class_, dtype: float64\n",
      "\n"
     ]
    },
    {
     "data": {
      "image/png": "[encoded data removed]",
      "text/plain": [
       "<Figure size 360x360 with 1 Axes>"
      ]
     },
     "metadata": {
      "needs_background": "light",
      "tags": []
     },
     "output_type": "display_data"
    }
   ],
   "source": [
    "# Visualização numérica das distribuições de cada classe.\n",
    "\n",
    "values = df_spam['class_'].value_counts()\n",
    "print(values)\n",
    "print()\n",
    "\n",
    "values = df_spam['class_'].value_counts(normalize=True)\n",
    "print(values)\n",
    "print()\n",
    "\n",
    "import seaborn as sns\n",
    "import matplotlib.pyplot as plt\n",
    "fig = plt.figure(figsize=(5,5))\n",
    "sns.countplot(x=\"class_\",data=df_spam)\n",
    "plt.show()"
   ]
  },
  {
   "cell_type": "code",
   "execution_count": null,
   "metadata": {
    "id": "3eTVXA6Pq96B"
   },
   "outputs": [],
   "source": [
    "X = df_spam[columns_name[:-1]]\n",
    "y = df_spam[['class_']]"
   ]
  },
  {
   "cell_type": "code",
   "execution_count": null,
   "metadata": {
    "id": "55oA8eAXw-mH"
   },
   "outputs": [],
   "source": [
    "from sklearn.model_selection import train_test_split\n",
    "X_train, X_test, y_train, y_test = train_test_split(X, y, test_size=0.3, random_state=84)"
   ]
  },
  {
   "cell_type": "code",
   "execution_count": null,
   "metadata": {
    "colab": {
     "base_uri": "https://localhost:8080/"
    },
    "executionInfo": {
     "elapsed": 1182,
     "status": "ok",
     "timestamp": 1605623267332,
     "user": {
      "displayName": "Lucas Nascimento Barros",
      "photoUrl": "https://lh3.googleusercontent.com/a-/AOh14GgMbOheZVKIMjmrihjT2Y24WMIzMgfqdI5Qu3pY=s64",
      "userId": "06035058941685765175"
     },
     "user_tz": 180
    },
    "id": "txFBspZ4xIdT",
    "outputId": "d2469b74-c95c-4843-ffd2-8e3da854bb0d"
   },
   "outputs": [
    {
     "name": "stdout",
     "output_type": "stream",
     "text": [
      "(3220, 57)\n",
      "(1381, 57)\n"
     ]
    }
   ],
   "source": [
    "print(X_train.shape)\n",
    "print(X_test.shape)"
   ]
  },
  {
   "cell_type": "markdown",
   "metadata": {
    "id": "mg3A0KCjm-dE"
   },
   "source": [
    "## KNeighborsClassifier"
   ]
  },
  {
   "cell_type": "code",
   "execution_count": null,
   "metadata": {
    "colab": {
     "base_uri": "https://localhost:8080/"
    },
    "executionInfo": {
     "elapsed": 3797,
     "status": "ok",
     "timestamp": 1605659851740,
     "user": {
      "displayName": "Lucas Nascimento Barros",
      "photoUrl": "https://lh3.googleusercontent.com/a-/AOh14GgMbOheZVKIMjmrihjT2Y24WMIzMgfqdI5Qu3pY=s64",
      "userId": "06035058941685765175"
     },
     "user_tz": 180
    },
    "id": "jZ9s-z08xZUg",
    "outputId": "ae19e655-57d1-43d9-d045-f8c6e8990fe8"
   },
   "outputs": [
    {
     "name": "stderr",
     "output_type": "stream",
     "text": [
      "/usr/local/lib/python3.6/dist-packages/sklearn/model_selection/_search.py:739: DataConversionWarning: A column-vector y was passed when a 1d array was expected. Please change the shape of y to (n_samples, ), for example using ravel().\n",
      "  self.best_estimator_.fit(X, y, **fit_params)\n"
     ]
    },
    {
     "data": {
      "text/plain": [
       "GridSearchCV(cv=None, error_score=nan,\n",
       "             estimator=KNeighborsClassifier(algorithm='auto', leaf_size=30,\n",
       "                                            metric='minkowski',\n",
       "                                            metric_params=None, n_jobs=None,\n",
       "                                            n_neighbors=5, p=2,\n",
       "                                            weights='uniform'),\n",
       "             iid='deprecated', n_jobs=-1,\n",
       "             param_grid={'n_neighbors': range(2, 15)}, pre_dispatch='2*n_jobs',\n",
       "             refit=True, return_train_score=False, scoring=None, verbose=0)"
      ]
     },
     "execution_count": 58,
     "metadata": {
      "tags": []
     },
     "output_type": "execute_result"
    }
   ],
   "source": [
    "from sklearn.neighbors import KNeighborsClassifier\n",
    "from sklearn.model_selection import GridSearchCV\n",
    "\n",
    "knn = KNeighborsClassifier()\n",
    "\n",
    "# score = ['accuracy','precision','recall','f1']\n",
    "# score = 'recall'\n",
    "\n",
    "# param_grid = {'n_neighbors': [2, 3, 4, 5, 6, 7, 8, 9, 10, 11, 12, 13, 14, 15]}\n",
    "param_grid = {'n_neighbors': range(2, 15)}\n",
    "\n",
    "grid_knn = GridSearchCV(knn, param_grid, n_jobs=-1)\n",
    "# grid_knn = GridSearchCV(knn, param_grid, scoring=score, n_jobs=-1)\n",
    "# grid_knn = GridSearchCV(knn, param_grid, scoring=score, n_jobs=-1, refit='precision')\n",
    "\n",
    "grid_knn.fit(X_train, y_train)"
   ]
  },
  {
   "cell_type": "code",
   "execution_count": null,
   "metadata": {
    "colab": {
     "base_uri": "https://localhost:8080/"
    },
    "executionInfo": {
     "elapsed": 3792,
     "status": "ok",
     "timestamp": 1605659851741,
     "user": {
      "displayName": "Lucas Nascimento Barros",
      "photoUrl": "https://lh3.googleusercontent.com/a-/AOh14GgMbOheZVKIMjmrihjT2Y24WMIzMgfqdI5Qu3pY=s64",
      "userId": "06035058941685765175"
     },
     "user_tz": 180
    },
    "id": "drYDT9DBxZHw",
    "outputId": "63568478-9388-4cd9-e8dc-cf6dd718a46b"
   },
   "outputs": [
    {
     "data": {
      "text/plain": [
       "0.8001448225923244"
      ]
     },
     "execution_count": 59,
     "metadata": {
      "tags": []
     },
     "output_type": "execute_result"
    }
   ],
   "source": [
    "grid_knn.score(X_test,y_test)"
   ]
  },
  {
   "cell_type": "code",
   "execution_count": null,
   "metadata": {
    "colab": {
     "base_uri": "https://localhost:8080/"
    },
    "executionInfo": {
     "elapsed": 3787,
     "status": "ok",
     "timestamp": 1605659851741,
     "user": {
      "displayName": "Lucas Nascimento Barros",
      "photoUrl": "https://lh3.googleusercontent.com/a-/AOh14GgMbOheZVKIMjmrihjT2Y24WMIzMgfqdI5Qu3pY=s64",
      "userId": "06035058941685765175"
     },
     "user_tz": 180
    },
    "id": "cySgQE91y6u_",
    "outputId": "591f6f4e-f1ba-4375-9f91-1f813c399e8d"
   },
   "outputs": [
    {
     "data": {
      "text/plain": [
       "{'n_neighbors': 3}"
      ]
     },
     "execution_count": 60,
     "metadata": {
      "tags": []
     },
     "output_type": "execute_result"
    }
   ],
   "source": [
    "# grid_knn.cv_results_\n",
    "# grid_knn.best_estimator_\n",
    "# grid_knn.best_score_\n",
    "grid_knn.best_params_\n",
    "# grid_knn.best_index_\n",
    "# grid_knn.scorer_\n",
    "# grid_knn.n_splits_\n",
    "# grid_knn.refit_time_"
   ]
  },
  {
   "cell_type": "code",
   "execution_count": null,
   "metadata": {
    "colab": {
     "base_uri": "https://localhost:8080/"
    },
    "executionInfo": {
     "elapsed": 3783,
     "status": "ok",
     "timestamp": 1605659851742,
     "user": {
      "displayName": "Lucas Nascimento Barros",
      "photoUrl": "https://lh3.googleusercontent.com/a-/AOh14GgMbOheZVKIMjmrihjT2Y24WMIzMgfqdI5Qu3pY=s64",
      "userId": "06035058941685765175"
     },
     "user_tz": 180
    },
    "id": "l02YrOTIx1fc",
    "outputId": "627f4c66-21f9-4e4c-8544-86b8e2b11bcd"
   },
   "outputs": [
    {
     "name": "stderr",
     "output_type": "stream",
     "text": [
      "/usr/local/lib/python3.6/dist-packages/ipykernel_launcher.py:3: DataConversionWarning: A column-vector y was passed when a 1d array was expected. Please change the shape of y to (n_samples, ), for example using ravel().\n",
      "  This is separate from the ipykernel package so we can avoid doing imports until\n"
     ]
    },
    {
     "data": {
      "text/plain": [
       "KNeighborsClassifier(algorithm='auto', leaf_size=30, metric='minkowski',\n",
       "                     metric_params=None, n_jobs=None, n_neighbors=3, p=2,\n",
       "                     weights='uniform')"
      ]
     },
     "execution_count": 61,
     "metadata": {
      "tags": []
     },
     "output_type": "execute_result"
    }
   ],
   "source": [
    "from sklearn.neighbors import KNeighborsClassifier\n",
    "knn = KNeighborsClassifier(n_neighbors=3)\n",
    "knn.fit(X_train, y_train)"
   ]
  },
  {
   "cell_type": "code",
   "execution_count": null,
   "metadata": {
    "colab": {
     "base_uri": "https://localhost:8080/"
    },
    "executionInfo": {
     "elapsed": 3779,
     "status": "ok",
     "timestamp": 1605659851742,
     "user": {
      "displayName": "Lucas Nascimento Barros",
      "photoUrl": "https://lh3.googleusercontent.com/a-/AOh14GgMbOheZVKIMjmrihjT2Y24WMIzMgfqdI5Qu3pY=s64",
      "userId": "06035058941685765175"
     },
     "user_tz": 180
    },
    "id": "pot0Q8X9yZFg",
    "outputId": "76c8eb06-8ecd-42c6-b77f-a26d611c77ca"
   },
   "outputs": [
    {
     "data": {
      "text/plain": [
       "0.8001448225923244"
      ]
     },
     "execution_count": 62,
     "metadata": {
      "tags": []
     },
     "output_type": "execute_result"
    }
   ],
   "source": [
    "knn.score(X_test,y_test)"
   ]
  },
  {
   "cell_type": "code",
   "execution_count": null,
   "metadata": {
    "colab": {
     "base_uri": "https://localhost:8080/"
    },
    "executionInfo": {
     "elapsed": 4072,
     "status": "ok",
     "timestamp": 1605659852041,
     "user": {
      "displayName": "Lucas Nascimento Barros",
      "photoUrl": "https://lh3.googleusercontent.com/a-/AOh14GgMbOheZVKIMjmrihjT2Y24WMIzMgfqdI5Qu3pY=s64",
      "userId": "06035058941685765175"
     },
     "user_tz": 180
    },
    "id": "Y9ZJBNJR1qVP",
    "outputId": "c6f6bd74-e937-4de5-91e0-9bb3afa5bc58"
   },
   "outputs": [
    {
     "name": "stdout",
     "output_type": "stream",
     "text": [
      "              precision    recall  f1-score   support\n",
      "\n",
      "           0       0.83      0.84      0.83       831\n",
      "           1       0.75      0.75      0.75       550\n",
      "\n",
      "    accuracy                           0.80      1381\n",
      "   macro avg       0.79      0.79      0.79      1381\n",
      "weighted avg       0.80      0.80      0.80      1381\n",
      "\n",
      "confusion_matrix\n",
      "[[694 137]\n",
      " [139 411]]\n"
     ]
    }
   ],
   "source": [
    "y_pred = knn.predict(X_test)\n",
    "y_true = y_test\n",
    "\n",
    "from sklearn.metrics import classification_report\n",
    "# print(classification_report(y_true'', y_pred, target_names=target_names))\n",
    "print(classification_report(y_true, y_pred))\n",
    "\n",
    "from sklearn.metrics import confusion_matrix\n",
    "cm = confusion_matrix(y_true, y_pred)\n",
    "\n",
    "print('confusion_matrix')\n",
    "print(cm)"
   ]
  },
  {
   "cell_type": "code",
   "execution_count": null,
   "metadata": {
    "colab": {
     "base_uri": "https://localhost:8080/"
    },
    "executionInfo": {
     "elapsed": 4068,
     "status": "ok",
     "timestamp": 1605659852041,
     "user": {
      "displayName": "Lucas Nascimento Barros",
      "photoUrl": "https://lh3.googleusercontent.com/a-/AOh14GgMbOheZVKIMjmrihjT2Y24WMIzMgfqdI5Qu3pY=s64",
      "userId": "06035058941685765175"
     },
     "user_tz": 180
    },
    "id": "GCIsZaoV2fVl",
    "outputId": "683123e9-0d68-4f35-925b-ee05d9bab58b"
   },
   "outputs": [
    {
     "name": "stdout",
     "output_type": "stream",
     "text": [
      "accuracy_score: 0.800\n",
      "precision_score: 0.750\n",
      "recall_score: 0.747\n",
      "f1_score: 0.749\n"
     ]
    }
   ],
   "source": [
    "y_pred = grid_knn.predict(X_test)\n",
    "y_true = y_test\n",
    "\n",
    "from sklearn.metrics import accuracy_score\n",
    "print(\"accuracy_score:\", \"%0.3f\" % accuracy_score(y_true, y_pred))\n",
    "\n",
    "from sklearn.metrics import precision_score\n",
    "print(\"precision_score:\", \"%0.3f\" % precision_score(y_true, y_pred))\n",
    "\n",
    "from sklearn.metrics import recall_score\n",
    "print(\"recall_score:\", \"%0.3f\" % recall_score(y_true, y_pred))\n",
    "\n",
    "from sklearn.metrics import f1_score\n",
    "print(\"f1_score:\", \"%0.3f\" % f1_score(y_true, y_pred,))"
   ]
  },
  {
   "cell_type": "markdown",
   "metadata": {
    "id": "ojGZnOI-JMIo"
   },
   "source": [
    "## SVC"
   ]
  },
  {
   "cell_type": "code",
   "execution_count": null,
   "metadata": {
    "colab": {
     "base_uri": "https://localhost:8080/"
    },
    "executionInfo": {
     "elapsed": 585,
     "status": "ok",
     "timestamp": 1605659619875,
     "user": {
      "displayName": "Lucas Nascimento Barros",
      "photoUrl": "https://lh3.googleusercontent.com/a-/AOh14GgMbOheZVKIMjmrihjT2Y24WMIzMgfqdI5Qu3pY=s64",
      "userId": "06035058941685765175"
     },
     "user_tz": 180
    },
    "id": "sCO9nGkLokRH",
    "outputId": "ee266336-9688-4863-8c28-387be97801fb"
   },
   "outputs": [
    {
     "name": "stdout",
     "output_type": "stream",
     "text": [
      "Current Time = 00:33:39\n"
     ]
    }
   ],
   "source": [
    "# Tempo de funcionamento do algoritmo\n",
    "from datetime import datetime\n",
    "\n",
    "now = datetime.now()\n",
    "\n",
    "current_time = now.strftime(\"%H:%M:%S\")\n",
    "print(\"Current Time =\", current_time)"
   ]
  },
  {
   "cell_type": "code",
   "execution_count": null,
   "metadata": {
    "id": "l77N9rQfwNTC"
   },
   "outputs": [],
   "source": [
    "from sklearn.preprocessing import MinMaxScaler\n",
    "\n",
    "min_max_scaler = MinMaxScaler()\n",
    "\n",
    "X_train_minmax = min_max_scaler.fit_transform(X_train)\n",
    "X_test_minmax = min_max_scaler.fit_transform(X_test)"
   ]
  },
  {
   "cell_type": "code",
   "execution_count": null,
   "metadata": {
    "colab": {
     "base_uri": "https://localhost:8080/"
    },
    "executionInfo": {
     "elapsed": 45407,
     "status": "ok",
     "timestamp": 1605659666116,
     "user": {
      "displayName": "Lucas Nascimento Barros",
      "photoUrl": "https://lh3.googleusercontent.com/a-/AOh14GgMbOheZVKIMjmrihjT2Y24WMIzMgfqdI5Qu3pY=s64",
      "userId": "06035058941685765175"
     },
     "user_tz": 180
    },
    "id": "sMDfu6P8JNGI",
    "outputId": "7fdc3fc7-e8f7-489d-e732-b8e8aff432da"
   },
   "outputs": [
    {
     "name": "stderr",
     "output_type": "stream",
     "text": [
      "/usr/local/lib/python3.6/dist-packages/sklearn/utils/validation.py:760: DataConversionWarning: A column-vector y was passed when a 1d array was expected. Please change the shape of y to (n_samples, ), for example using ravel().\n",
      "  y = column_or_1d(y, warn=True)\n"
     ]
    },
    {
     "data": {
      "text/plain": [
       "GridSearchCV(cv=None, error_score=nan,\n",
       "             estimator=SVC(C=1.0, break_ties=False, cache_size=200,\n",
       "                           class_weight=None, coef0=0.0,\n",
       "                           decision_function_shape='ovr', degree=3,\n",
       "                           gamma='scale', kernel='rbf', max_iter=-1,\n",
       "                           probability=False, random_state=84, shrinking=True,\n",
       "                           tol=0.001, verbose=False),\n",
       "             iid='deprecated', n_jobs=-1,\n",
       "             param_grid=[{'C': [1, 10, 100, 1000],\n",
       "                          'kernel': ['linear', 'poly', 'sigmoid']},\n",
       "                         {'C': [1, 10, 100, 1000],\n",
       "                          'gamma': [0.0001, 0.001, 0.01, 0.1],\n",
       "                          'kernel': ['rbf']}],\n",
       "             pre_dispatch='2*n_jobs', refit=True, return_train_score=False,\n",
       "             scoring=None, verbose=0)"
      ]
     },
     "execution_count": 46,
     "metadata": {
      "tags": []
     },
     "output_type": "execute_result"
    }
   ],
   "source": [
    "from sklearn.svm import SVC\n",
    "from sklearn.model_selection import GridSearchCV\n",
    "\n",
    "# svc = SVC(random_state=84, max_iter=1000000)\n",
    "svc = SVC(random_state=84)\n",
    "\n",
    "param_grid = [\n",
    "  {'C': [1, 10, 100, 1000], 'kernel': ['linear', 'poly', 'sigmoid']},\n",
    "  {'C': [1, 10, 100, 1000], 'gamma': [0.0001, 0.001, 0.01, 0.1], 'kernel': ['rbf']},\n",
    " ]\n",
    "\n",
    "grid_svc = GridSearchCV(svc, param_grid, n_jobs=-1)\n",
    "\n",
    "# grid_svc.fit(X_train, y_train)\n",
    "grid_svc.fit(X_train_minmax, y_train)"
   ]
  },
  {
   "cell_type": "code",
   "execution_count": null,
   "metadata": {
    "colab": {
     "base_uri": "https://localhost:8080/"
    },
    "executionInfo": {
     "elapsed": 44028,
     "status": "ok",
     "timestamp": 1605659666118,
     "user": {
      "displayName": "Lucas Nascimento Barros",
      "photoUrl": "https://lh3.googleusercontent.com/a-/AOh14GgMbOheZVKIMjmrihjT2Y24WMIzMgfqdI5Qu3pY=s64",
      "userId": "06035058941685765175"
     },
     "user_tz": 180
    },
    "id": "lJ_IegZfok4o",
    "outputId": "de06f9d4-8133-4151-990a-5575604468f3"
   },
   "outputs": [
    {
     "name": "stdout",
     "output_type": "stream",
     "text": [
      "Current Time = 00:34:25\n"
     ]
    }
   ],
   "source": [
    "# Tempo de funcionamento do algoritmo\n",
    "from datetime import datetime\n",
    "\n",
    "now = datetime.now()\n",
    "\n",
    "current_time = now.strftime(\"%H:%M:%S\")\n",
    "print(\"Current Time =\", current_time)"
   ]
  },
  {
   "cell_type": "code",
   "execution_count": null,
   "metadata": {
    "colab": {
     "base_uri": "https://localhost:8080/"
    },
    "executionInfo": {
     "elapsed": 43019,
     "status": "ok",
     "timestamp": 1605659666118,
     "user": {
      "displayName": "Lucas Nascimento Barros",
      "photoUrl": "https://lh3.googleusercontent.com/a-/AOh14GgMbOheZVKIMjmrihjT2Y24WMIzMgfqdI5Qu3pY=s64",
      "userId": "06035058941685765175"
     },
     "user_tz": 180
    },
    "id": "4bYxW6xlN0BA",
    "outputId": "fbd4e793-8c5b-4aac-c24a-0dc84052c83d"
   },
   "outputs": [
    {
     "data": {
      "text/plain": [
       "0.939174511223751"
      ]
     },
     "execution_count": 48,
     "metadata": {
      "tags": []
     },
     "output_type": "execute_result"
    }
   ],
   "source": [
    "grid_svc.score(X_test_minmax,y_test)"
   ]
  },
  {
   "cell_type": "code",
   "execution_count": null,
   "metadata": {
    "colab": {
     "base_uri": "https://localhost:8080/"
    },
    "executionInfo": {
     "elapsed": 41986,
     "status": "ok",
     "timestamp": 1605659666119,
     "user": {
      "displayName": "Lucas Nascimento Barros",
      "photoUrl": "https://lh3.googleusercontent.com/a-/AOh14GgMbOheZVKIMjmrihjT2Y24WMIzMgfqdI5Qu3pY=s64",
      "userId": "06035058941685765175"
     },
     "user_tz": 180
    },
    "id": "rFNleI_keoTE",
    "outputId": "37c21886-5525-4726-e8bd-a49a4f183f9f"
   },
   "outputs": [
    {
     "data": {
      "text/plain": [
       "{'C': 1000, 'gamma': 0.1, 'kernel': 'rbf'}"
      ]
     },
     "execution_count": 49,
     "metadata": {
      "tags": []
     },
     "output_type": "execute_result"
    }
   ],
   "source": [
    "# grid_svc.cv_results_\n",
    "# grid_svc.best_estimator_\n",
    "# grid_svc.best_score_\n",
    "grid_svc.best_params_\n",
    "# grid_svc.best_index_\n",
    "# grid_svc.scorer_\n",
    "# grid_svc.n_splits_\n",
    "# grid_svc.refit_time_"
   ]
  },
  {
   "cell_type": "code",
   "execution_count": null,
   "metadata": {
    "colab": {
     "base_uri": "https://localhost:8080/"
    },
    "executionInfo": {
     "elapsed": 1023,
     "status": "ok",
     "timestamp": 1605659732472,
     "user": {
      "displayName": "Lucas Nascimento Barros",
      "photoUrl": "https://lh3.googleusercontent.com/a-/AOh14GgMbOheZVKIMjmrihjT2Y24WMIzMgfqdI5Qu3pY=s64",
      "userId": "06035058941685765175"
     },
     "user_tz": 180
    },
    "id": "JqUmnnNtO7xt",
    "outputId": "30509df8-c859-48ff-ca54-a1389b5f6566"
   },
   "outputs": [
    {
     "name": "stderr",
     "output_type": "stream",
     "text": [
      "/usr/local/lib/python3.6/dist-packages/sklearn/utils/validation.py:760: DataConversionWarning: A column-vector y was passed when a 1d array was expected. Please change the shape of y to (n_samples, ), for example using ravel().\n",
      "  y = column_or_1d(y, warn=True)\n"
     ]
    },
    {
     "data": {
      "text/plain": [
       "SVC(C=1000, break_ties=False, cache_size=200, class_weight=None, coef0=0.0,\n",
       "    decision_function_shape='ovr', degree=3, gamma=0.1, kernel='rbf',\n",
       "    max_iter=-1, probability=False, random_state=84, shrinking=True, tol=0.001,\n",
       "    verbose=False)"
      ]
     },
     "execution_count": 54,
     "metadata": {
      "tags": []
     },
     "output_type": "execute_result"
    }
   ],
   "source": [
    "from sklearn.svm import SVC\n",
    "svc = SVC(random_state=84, C=1000, gamma=0.1, kernel='rbf')\n",
    "svc.fit(X_train_minmax, y_train)"
   ]
  },
  {
   "cell_type": "code",
   "execution_count": null,
   "metadata": {
    "colab": {
     "base_uri": "https://localhost:8080/"
    },
    "executionInfo": {
     "elapsed": 627,
     "status": "ok",
     "timestamp": 1605659734485,
     "user": {
      "displayName": "Lucas Nascimento Barros",
      "photoUrl": "https://lh3.googleusercontent.com/a-/AOh14GgMbOheZVKIMjmrihjT2Y24WMIzMgfqdI5Qu3pY=s64",
      "userId": "06035058941685765175"
     },
     "user_tz": 180
    },
    "id": "zVO4Hl3YPpmU",
    "outputId": "93372959-6fb4-4e06-e64b-307ca5eeba77"
   },
   "outputs": [
    {
     "data": {
      "text/plain": [
       "0.939174511223751"
      ]
     },
     "execution_count": 55,
     "metadata": {
      "tags": []
     },
     "output_type": "execute_result"
    }
   ],
   "source": [
    "svc.score(X_test_minmax, y_test)"
   ]
  },
  {
   "cell_type": "code",
   "execution_count": null,
   "metadata": {
    "colab": {
     "base_uri": "https://localhost:8080/"
    },
    "executionInfo": {
     "elapsed": 646,
     "status": "ok",
     "timestamp": 1605659739735,
     "user": {
      "displayName": "Lucas Nascimento Barros",
      "photoUrl": "https://lh3.googleusercontent.com/a-/AOh14GgMbOheZVKIMjmrihjT2Y24WMIzMgfqdI5Qu3pY=s64",
      "userId": "06035058941685765175"
     },
     "user_tz": 180
    },
    "id": "MJJ0tQnMHNak",
    "outputId": "43dc61ad-d459-4239-a390-c36b9ef6cd0a"
   },
   "outputs": [
    {
     "name": "stdout",
     "output_type": "stream",
     "text": [
      "              precision    recall  f1-score   support\n",
      "\n",
      "           0       0.95      0.95      0.95       831\n",
      "           1       0.92      0.93      0.92       550\n",
      "\n",
      "    accuracy                           0.94      1381\n",
      "   macro avg       0.94      0.94      0.94      1381\n",
      "weighted avg       0.94      0.94      0.94      1381\n",
      "\n",
      "confusion_matrix\n",
      "[[787  44]\n",
      " [ 40 510]]\n"
     ]
    }
   ],
   "source": [
    "y_pred = svc.predict(X_test_minmax)\n",
    "y_true = y_test\n",
    "\n",
    "from sklearn.metrics import classification_report\n",
    "# print(classification_report(y_true'', y_pred, target_names=target_names))\n",
    "print(classification_report(y_true, y_pred))\n",
    "\n",
    "from sklearn.metrics import confusion_matrix\n",
    "cm = confusion_matrix(y_true, y_pred)\n",
    "\n",
    "print('confusion_matrix')\n",
    "print(cm)"
   ]
  },
  {
   "cell_type": "code",
   "execution_count": null,
   "metadata": {
    "colab": {
     "base_uri": "https://localhost:8080/"
    },
    "executionInfo": {
     "elapsed": 674,
     "status": "ok",
     "timestamp": 1605659742148,
     "user": {
      "displayName": "Lucas Nascimento Barros",
      "photoUrl": "https://lh3.googleusercontent.com/a-/AOh14GgMbOheZVKIMjmrihjT2Y24WMIzMgfqdI5Qu3pY=s64",
      "userId": "06035058941685765175"
     },
     "user_tz": 180
    },
    "id": "p1TmNtS-2b74",
    "outputId": "eb1c6e87-8c28-4b40-c60c-5a76546c0e76"
   },
   "outputs": [
    {
     "name": "stdout",
     "output_type": "stream",
     "text": [
      "accuracy_score: 0.939\n",
      "precision_score: 0.921\n",
      "recall_score: 0.927\n",
      "f1_score: 0.924\n"
     ]
    }
   ],
   "source": [
    "y_pred = svc.predict(X_test_minmax)\n",
    "y_true = y_test\n",
    "\n",
    "from sklearn.metrics import accuracy_score\n",
    "print(\"accuracy_score:\", \"%0.3f\" % accuracy_score(y_true, y_pred))\n",
    "\n",
    "from sklearn.metrics import precision_score\n",
    "print(\"precision_score:\", \"%0.3f\" % precision_score(y_true, y_pred))\n",
    "\n",
    "from sklearn.metrics import recall_score\n",
    "print(\"recall_score:\", \"%0.3f\" % recall_score(y_true, y_pred))\n",
    "\n",
    "from sklearn.metrics import f1_score\n",
    "print(\"f1_score:\", \"%0.3f\" % f1_score(y_true, y_pred,))"
   ]
  },
  {
   "cell_type": "markdown",
   "metadata": {
    "id": "kXFQ-obkt-tD"
   },
   "source": [
    "## DecisionTreeClassifier"
   ]
  },
  {
   "cell_type": "code",
   "execution_count": null,
   "metadata": {
    "colab": {
     "base_uri": "https://localhost:8080/"
    },
    "executionInfo": {
     "elapsed": 19465,
     "status": "ok",
     "timestamp": 1605659913703,
     "user": {
      "displayName": "Lucas Nascimento Barros",
      "photoUrl": "https://lh3.googleusercontent.com/a-/AOh14GgMbOheZVKIMjmrihjT2Y24WMIzMgfqdI5Qu3pY=s64",
      "userId": "06035058941685765175"
     },
     "user_tz": 180
    },
    "id": "aF-CWqMy6atc",
    "outputId": "c4afc9b6-5c13-4d90-dab3-27b3c34b106e"
   },
   "outputs": [
    {
     "data": {
      "text/plain": [
       "GridSearchCV(cv=None, error_score=nan,\n",
       "             estimator=DecisionTreeClassifier(ccp_alpha=0.0, class_weight=None,\n",
       "                                              criterion='gini', max_depth=None,\n",
       "                                              max_features=None,\n",
       "                                              max_leaf_nodes=None,\n",
       "                                              min_impurity_decrease=0.0,\n",
       "                                              min_impurity_split=None,\n",
       "                                              min_samples_leaf=1,\n",
       "                                              min_samples_split=2,\n",
       "                                              min_weight_fraction_leaf=0.0,\n",
       "                                              presort='deprecated',\n",
       "                                              random_state=84,\n",
       "                                              splitter='best'),\n",
       "             iid='deprecated', n_jobs=-1,\n",
       "             param_grid={'max_depth': range(1, 100)}, pre_dispatch='2*n_jobs',\n",
       "             refit=True, return_train_score=False, scoring=None, verbose=0)"
      ]
     },
     "execution_count": 65,
     "metadata": {
      "tags": []
     },
     "output_type": "execute_result"
    }
   ],
   "source": [
    "from sklearn.tree import DecisionTreeClassifier\n",
    "from sklearn.model_selection import GridSearchCV\n",
    "\n",
    "dtc = DecisionTreeClassifier(random_state=84)\n",
    "\n",
    "param_grid = {'max_depth': range(1, 100)}\n",
    "\n",
    "grid_dtc = GridSearchCV(dtc, param_grid, n_jobs=-1)\n",
    "\n",
    "grid_dtc.fit(X_train, y_train)"
   ]
  },
  {
   "cell_type": "code",
   "execution_count": null,
   "metadata": {
    "colab": {
     "base_uri": "https://localhost:8080/"
    },
    "executionInfo": {
     "elapsed": 19455,
     "status": "ok",
     "timestamp": 1605659913703,
     "user": {
      "displayName": "Lucas Nascimento Barros",
      "photoUrl": "https://lh3.googleusercontent.com/a-/AOh14GgMbOheZVKIMjmrihjT2Y24WMIzMgfqdI5Qu3pY=s64",
      "userId": "06035058941685765175"
     },
     "user_tz": 180
    },
    "id": "o_2S4G3m7QuL",
    "outputId": "e33cb778-ac44-410b-fe93-4d015819316b"
   },
   "outputs": [
    {
     "data": {
      "text/plain": [
       "0.9145546705286025"
      ]
     },
     "execution_count": 66,
     "metadata": {
      "tags": []
     },
     "output_type": "execute_result"
    }
   ],
   "source": [
    "grid_dtc.score(X_test,y_test)"
   ]
  },
  {
   "cell_type": "code",
   "execution_count": null,
   "metadata": {
    "colab": {
     "base_uri": "https://localhost:8080/"
    },
    "executionInfo": {
     "elapsed": 19449,
     "status": "ok",
     "timestamp": 1605659913704,
     "user": {
      "displayName": "Lucas Nascimento Barros",
      "photoUrl": "https://lh3.googleusercontent.com/a-/AOh14GgMbOheZVKIMjmrihjT2Y24WMIzMgfqdI5Qu3pY=s64",
      "userId": "06035058941685765175"
     },
     "user_tz": 180
    },
    "id": "trmocqAy7Yo2",
    "outputId": "2f6e26f2-cf09-42a9-d757-a634d38e0a31"
   },
   "outputs": [
    {
     "data": {
      "text/plain": [
       "{'max_depth': 10}"
      ]
     },
     "execution_count": 67,
     "metadata": {
      "tags": []
     },
     "output_type": "execute_result"
    }
   ],
   "source": [
    "# grid_dtc.cv_results_\n",
    "# grid_dtc.best_estimator_\n",
    "# grid_dtc.best_score_\n",
    "grid_dtc.best_params_\n",
    "# grid_dtc.best_index_\n",
    "# grid_dtc.scorer_\n",
    "# grid_dtc.n_splits_\n",
    "# grid_dtc.refit_time_"
   ]
  },
  {
   "cell_type": "code",
   "execution_count": null,
   "metadata": {
    "colab": {
     "base_uri": "https://localhost:8080/"
    },
    "executionInfo": {
     "elapsed": 19444,
     "status": "ok",
     "timestamp": 1605659913704,
     "user": {
      "displayName": "Lucas Nascimento Barros",
      "photoUrl": "https://lh3.googleusercontent.com/a-/AOh14GgMbOheZVKIMjmrihjT2Y24WMIzMgfqdI5Qu3pY=s64",
      "userId": "06035058941685765175"
     },
     "user_tz": 180
    },
    "id": "agySEsD9uHv1",
    "outputId": "dd0a62cc-1281-46bc-f5a3-7fb7653dcfc4"
   },
   "outputs": [
    {
     "data": {
      "text/plain": [
       "DecisionTreeClassifier(ccp_alpha=0.0, class_weight=None, criterion='gini',\n",
       "                       max_depth=10, max_features=None, max_leaf_nodes=None,\n",
       "                       min_impurity_decrease=0.0, min_impurity_split=None,\n",
       "                       min_samples_leaf=1, min_samples_split=2,\n",
       "                       min_weight_fraction_leaf=0.0, presort='deprecated',\n",
       "                       random_state=84, splitter='best')"
      ]
     },
     "execution_count": 68,
     "metadata": {
      "tags": []
     },
     "output_type": "execute_result"
    }
   ],
   "source": [
    "from sklearn.tree import DecisionTreeClassifier\n",
    "dtc = DecisionTreeClassifier(random_state=84,max_depth=10)\n",
    "dtc.fit(X_train, y_train)"
   ]
  },
  {
   "cell_type": "code",
   "execution_count": null,
   "metadata": {
    "colab": {
     "base_uri": "https://localhost:8080/"
    },
    "executionInfo": {
     "elapsed": 19439,
     "status": "ok",
     "timestamp": 1605659913704,
     "user": {
      "displayName": "Lucas Nascimento Barros",
      "photoUrl": "https://lh3.googleusercontent.com/a-/AOh14GgMbOheZVKIMjmrihjT2Y24WMIzMgfqdI5Qu3pY=s64",
      "userId": "06035058941685765175"
     },
     "user_tz": 180
    },
    "id": "2fOAnS06v-M8",
    "outputId": "d06176d2-e303-4ffd-ec7e-f301014337a1"
   },
   "outputs": [
    {
     "data": {
      "text/plain": [
       "0.9145546705286025"
      ]
     },
     "execution_count": 69,
     "metadata": {
      "tags": []
     },
     "output_type": "execute_result"
    }
   ],
   "source": [
    "dtc.score(X_test,y_test)"
   ]
  },
  {
   "cell_type": "code",
   "execution_count": null,
   "metadata": {
    "colab": {
     "base_uri": "https://localhost:8080/"
    },
    "executionInfo": {
     "elapsed": 19436,
     "status": "ok",
     "timestamp": 1605659913705,
     "user": {
      "displayName": "Lucas Nascimento Barros",
      "photoUrl": "https://lh3.googleusercontent.com/a-/AOh14GgMbOheZVKIMjmrihjT2Y24WMIzMgfqdI5Qu3pY=s64",
      "userId": "06035058941685765175"
     },
     "user_tz": 180
    },
    "id": "t7qtvQNtHTLx",
    "outputId": "0e14b38c-3df8-4939-8ecf-c900384f1ebe"
   },
   "outputs": [
    {
     "name": "stdout",
     "output_type": "stream",
     "text": [
      "              precision    recall  f1-score   support\n",
      "\n",
      "           0       0.92      0.93      0.93       831\n",
      "           1       0.90      0.89      0.89       550\n",
      "\n",
      "    accuracy                           0.91      1381\n",
      "   macro avg       0.91      0.91      0.91      1381\n",
      "weighted avg       0.91      0.91      0.91      1381\n",
      "\n",
      "confusion_matrix\n",
      "[[776  55]\n",
      " [ 63 487]]\n"
     ]
    }
   ],
   "source": [
    "y_pred = dtc.predict(X_test)\n",
    "y_true = y_test\n",
    "\n",
    "from sklearn.metrics import classification_report\n",
    "# print(classification_report(y_true'', y_pred, target_names=target_names))\n",
    "print(classification_report(y_true, y_pred))\n",
    "\n",
    "from sklearn.metrics import confusion_matrix\n",
    "cm = confusion_matrix(y_true, y_pred)\n",
    "\n",
    "print('confusion_matrix')\n",
    "print(cm)"
   ]
  },
  {
   "cell_type": "code",
   "execution_count": null,
   "metadata": {
    "colab": {
     "base_uri": "https://localhost:8080/"
    },
    "executionInfo": {
     "elapsed": 19430,
     "status": "ok",
     "timestamp": 1605659913705,
     "user": {
      "displayName": "Lucas Nascimento Barros",
      "photoUrl": "https://lh3.googleusercontent.com/a-/AOh14GgMbOheZVKIMjmrihjT2Y24WMIzMgfqdI5Qu3pY=s64",
      "userId": "06035058941685765175"
     },
     "user_tz": 180
    },
    "id": "UtZzxaP52Qk3",
    "outputId": "40496760-d659-48bb-9303-c983dd8899e5"
   },
   "outputs": [
    {
     "name": "stdout",
     "output_type": "stream",
     "text": [
      "accuracy_score: 0.915\n",
      "precision_score: 0.899\n",
      "recall_score: 0.885\n",
      "f1_score: 0.892\n"
     ]
    }
   ],
   "source": [
    "y_pred = dtc.predict(X_test)\n",
    "y_true = y_test\n",
    "\n",
    "from sklearn.metrics import accuracy_score\n",
    "print(\"accuracy_score:\", \"%0.3f\" % accuracy_score(y_true, y_pred))\n",
    "\n",
    "from sklearn.metrics import precision_score\n",
    "print(\"precision_score:\", \"%0.3f\" % precision_score(y_true, y_pred))\n",
    "\n",
    "from sklearn.metrics import recall_score\n",
    "print(\"recall_score:\", \"%0.3f\" % recall_score(y_true, y_pred))\n",
    "\n",
    "from sklearn.metrics import f1_score\n",
    "print(\"f1_score:\", \"%0.3f\" % f1_score(y_true, y_pred,))"
   ]
  },
  {
   "cell_type": "markdown",
   "metadata": {
    "id": "2DSky1IPtBK4"
   },
   "source": [
    "## Naive Bayes"
   ]
  },
  {
   "cell_type": "markdown",
   "metadata": {
    "id": "XEv68dyDIfzR"
   },
   "source": [
    "### GaussianNB"
   ]
  },
  {
   "cell_type": "code",
   "execution_count": null,
   "metadata": {
    "colab": {
     "base_uri": "https://localhost:8080/"
    },
    "executionInfo": {
     "elapsed": 719,
     "status": "ok",
     "timestamp": 1605659989738,
     "user": {
      "displayName": "Lucas Nascimento Barros",
      "photoUrl": "https://lh3.googleusercontent.com/a-/AOh14GgMbOheZVKIMjmrihjT2Y24WMIzMgfqdI5Qu3pY=s64",
      "userId": "06035058941685765175"
     },
     "user_tz": 180
    },
    "id": "Hd8VqQwAHuI9",
    "outputId": "5adef934-11bb-40dd-e808-a7c26ef40665"
   },
   "outputs": [
    {
     "name": "stderr",
     "output_type": "stream",
     "text": [
      "/usr/local/lib/python3.6/dist-packages/sklearn/naive_bayes.py:206: DataConversionWarning: A column-vector y was passed when a 1d array was expected. Please change the shape of y to (n_samples, ), for example using ravel().\n",
      "  y = column_or_1d(y, warn=True)\n"
     ]
    },
    {
     "data": {
      "text/plain": [
       "GaussianNB(priors=None, var_smoothing=1e-09)"
      ]
     },
     "execution_count": 72,
     "metadata": {
      "tags": []
     },
     "output_type": "execute_result"
    }
   ],
   "source": [
    "from sklearn.naive_bayes import GaussianNB\n",
    "gnb = GaussianNB()\n",
    "gnb.fit(X_train, y_train)"
   ]
  },
  {
   "cell_type": "code",
   "execution_count": null,
   "metadata": {
    "colab": {
     "base_uri": "https://localhost:8080/"
    },
    "executionInfo": {
     "elapsed": 708,
     "status": "ok",
     "timestamp": 1605659989740,
     "user": {
      "displayName": "Lucas Nascimento Barros",
      "photoUrl": "https://lh3.googleusercontent.com/a-/AOh14GgMbOheZVKIMjmrihjT2Y24WMIzMgfqdI5Qu3pY=s64",
      "userId": "06035058941685765175"
     },
     "user_tz": 180
    },
    "id": "N8k5lqR2IoCF",
    "outputId": "e54d9477-fd50-4b86-d9ec-43b8f59297d3"
   },
   "outputs": [
    {
     "data": {
      "text/plain": [
       "0.8298334540188269"
      ]
     },
     "execution_count": 73,
     "metadata": {
      "tags": []
     },
     "output_type": "execute_result"
    }
   ],
   "source": [
    "gnb.score(X_test,y_test)"
   ]
  },
  {
   "cell_type": "code",
   "execution_count": null,
   "metadata": {
    "colab": {
     "base_uri": "https://localhost:8080/"
    },
    "executionInfo": {
     "elapsed": 704,
     "status": "ok",
     "timestamp": 1605659989741,
     "user": {
      "displayName": "Lucas Nascimento Barros",
      "photoUrl": "https://lh3.googleusercontent.com/a-/AOh14GgMbOheZVKIMjmrihjT2Y24WMIzMgfqdI5Qu3pY=s64",
      "userId": "06035058941685765175"
     },
     "user_tz": 180
    },
    "id": "rTQlri65JgK_",
    "outputId": "bb6288ef-d60d-46d1-89ae-8cc5dd4e703a"
   },
   "outputs": [
    {
     "name": "stdout",
     "output_type": "stream",
     "text": [
      "              precision    recall  f1-score   support\n",
      "\n",
      "           0       0.97      0.74      0.84       831\n",
      "           1       0.71      0.96      0.82       550\n",
      "\n",
      "    accuracy                           0.83      1381\n",
      "   macro avg       0.84      0.85      0.83      1381\n",
      "weighted avg       0.86      0.83      0.83      1381\n",
      "\n",
      "confusion_matrix\n",
      "[[618 213]\n",
      " [ 22 528]]\n"
     ]
    }
   ],
   "source": [
    "y_pred = gnb.predict(X_test)\n",
    "y_true = y_test\n",
    "\n",
    "from sklearn.metrics import classification_report\n",
    "# print(classification_report(y_true'', y_pred, target_names=target_names))\n",
    "print(classification_report(y_true, y_pred))\n",
    "\n",
    "from sklearn.metrics import confusion_matrix\n",
    "cm = confusion_matrix(y_true, y_pred)\n",
    "\n",
    "print('confusion_matrix')\n",
    "print(cm)"
   ]
  },
  {
   "cell_type": "code",
   "execution_count": null,
   "metadata": {
    "colab": {
     "base_uri": "https://localhost:8080/"
    },
    "executionInfo": {
     "elapsed": 700,
     "status": "ok",
     "timestamp": 1605659989742,
     "user": {
      "displayName": "Lucas Nascimento Barros",
      "photoUrl": "https://lh3.googleusercontent.com/a-/AOh14GgMbOheZVKIMjmrihjT2Y24WMIzMgfqdI5Qu3pY=s64",
      "userId": "06035058941685765175"
     },
     "user_tz": 180
    },
    "id": "5Uozy-Fa2OJu",
    "outputId": "cab91144-5526-4978-9d4c-beb03d785c9e"
   },
   "outputs": [
    {
     "name": "stdout",
     "output_type": "stream",
     "text": [
      "accuracy_score: 0.830\n",
      "precision_score: 0.713\n",
      "recall_score: 0.960\n",
      "f1_score: 0.818\n"
     ]
    }
   ],
   "source": [
    "y_pred = gnb.predict(X_test)\n",
    "y_true = y_test\n",
    "\n",
    "from sklearn.metrics import accuracy_score\n",
    "print(\"accuracy_score:\", \"%0.3f\" % accuracy_score(y_true, y_pred))\n",
    "\n",
    "from sklearn.metrics import precision_score\n",
    "print(\"precision_score:\", \"%0.3f\" % precision_score(y_true, y_pred))\n",
    "\n",
    "from sklearn.metrics import recall_score\n",
    "print(\"recall_score:\", \"%0.3f\" % recall_score(y_true, y_pred))\n",
    "\n",
    "from sklearn.metrics import f1_score\n",
    "print(\"f1_score:\", \"%0.3f\" % f1_score(y_true, y_pred,))"
   ]
  },
  {
   "cell_type": "markdown",
   "metadata": {
    "id": "xcj6TR3nshz3"
   },
   "source": [
    "### MultinomialNB"
   ]
  },
  {
   "cell_type": "markdown",
   "metadata": {
    "id": "bantZkroE2YL"
   },
   "source": [
    "MultinomialNB classifica melhor os textos que não são spam, porém tb tem um uma boa classificação nos textos que são spam."
   ]
  },
  {
   "cell_type": "code",
   "execution_count": null,
   "metadata": {
    "colab": {
     "base_uri": "https://localhost:8080/"
    },
    "executionInfo": {
     "elapsed": 696,
     "status": "ok",
     "timestamp": 1605659989742,
     "user": {
      "displayName": "Lucas Nascimento Barros",
      "photoUrl": "https://lh3.googleusercontent.com/a-/AOh14GgMbOheZVKIMjmrihjT2Y24WMIzMgfqdI5Qu3pY=s64",
      "userId": "06035058941685765175"
     },
     "user_tz": 180
    },
    "id": "o3GPPJIdsZZj",
    "outputId": "f843e2d8-0cef-4805-c546-286b55632801"
   },
   "outputs": [
    {
     "name": "stderr",
     "output_type": "stream",
     "text": [
      "/usr/local/lib/python3.6/dist-packages/sklearn/utils/validation.py:760: DataConversionWarning: A column-vector y was passed when a 1d array was expected. Please change the shape of y to (n_samples, ), for example using ravel().\n",
      "  y = column_or_1d(y, warn=True)\n"
     ]
    },
    {
     "data": {
      "text/plain": [
       "MultinomialNB(alpha=1.0, class_prior=None, fit_prior=True)"
      ]
     },
     "execution_count": 76,
     "metadata": {
      "tags": []
     },
     "output_type": "execute_result"
    }
   ],
   "source": [
    "from sklearn.naive_bayes import MultinomialNB\n",
    "mnb = MultinomialNB()\n",
    "mnb.fit(X_train, y_train)"
   ]
  },
  {
   "cell_type": "code",
   "execution_count": null,
   "metadata": {
    "colab": {
     "base_uri": "https://localhost:8080/"
    },
    "executionInfo": {
     "elapsed": 693,
     "status": "ok",
     "timestamp": 1605659989743,
     "user": {
      "displayName": "Lucas Nascimento Barros",
      "photoUrl": "https://lh3.googleusercontent.com/a-/AOh14GgMbOheZVKIMjmrihjT2Y24WMIzMgfqdI5Qu3pY=s64",
      "userId": "06035058941685765175"
     },
     "user_tz": 180
    },
    "id": "_s69Tzgbt_4Z",
    "outputId": "06483363-ffd1-47bf-8222-3c337e2e2dca"
   },
   "outputs": [
    {
     "data": {
      "text/plain": [
       "0.8204199855177408"
      ]
     },
     "execution_count": 77,
     "metadata": {
      "tags": []
     },
     "output_type": "execute_result"
    }
   ],
   "source": [
    "mnb.score(X_test,y_test)"
   ]
  },
  {
   "cell_type": "code",
   "execution_count": null,
   "metadata": {
    "colab": {
     "base_uri": "https://localhost:8080/"
    },
    "executionInfo": {
     "elapsed": 978,
     "status": "ok",
     "timestamp": 1605659990032,
     "user": {
      "displayName": "Lucas Nascimento Barros",
      "photoUrl": "https://lh3.googleusercontent.com/a-/AOh14GgMbOheZVKIMjmrihjT2Y24WMIzMgfqdI5Qu3pY=s64",
      "userId": "06035058941685765175"
     },
     "user_tz": 180
    },
    "id": "K9MDt4lSHeFR",
    "outputId": "2eb72f3b-d136-4c35-85eb-dcc2ff601fce"
   },
   "outputs": [
    {
     "name": "stdout",
     "output_type": "stream",
     "text": [
      "              precision    recall  f1-score   support\n",
      "\n",
      "           0       0.86      0.84      0.85       831\n",
      "           1       0.76      0.80      0.78       550\n",
      "\n",
      "    accuracy                           0.82      1381\n",
      "   macro avg       0.81      0.82      0.81      1381\n",
      "weighted avg       0.82      0.82      0.82      1381\n",
      "\n",
      "confusion_matrix\n",
      "[[695 136]\n",
      " [112 438]]\n"
     ]
    }
   ],
   "source": [
    "y_pred = mnb.predict(X_test)\n",
    "y_true = y_test\n",
    "\n",
    "from sklearn.metrics import classification_report\n",
    "# print(classification_report(y_true'', y_pred, target_names=target_names))\n",
    "print(classification_report(y_true, y_pred))\n",
    "\n",
    "from sklearn.metrics import confusion_matrix\n",
    "cm = confusion_matrix(y_true, y_pred)\n",
    "\n",
    "print('confusion_matrix')\n",
    "print(cm)"
   ]
  },
  {
   "cell_type": "code",
   "execution_count": null,
   "metadata": {
    "colab": {
     "base_uri": "https://localhost:8080/"
    },
    "executionInfo": {
     "elapsed": 973,
     "status": "ok",
     "timestamp": 1605659990032,
     "user": {
      "displayName": "Lucas Nascimento Barros",
      "photoUrl": "https://lh3.googleusercontent.com/a-/AOh14GgMbOheZVKIMjmrihjT2Y24WMIzMgfqdI5Qu3pY=s64",
      "userId": "06035058941685765175"
     },
     "user_tz": 180
    },
    "id": "RWr7VjfJ2Gp_",
    "outputId": "5a8c489a-447c-464c-eff6-f1b10b522358"
   },
   "outputs": [
    {
     "name": "stdout",
     "output_type": "stream",
     "text": [
      "accuracy_score: 0.820\n",
      "precision_score: 0.763\n",
      "recall_score: 0.796\n",
      "f1_score: 0.779\n"
     ]
    }
   ],
   "source": [
    "y_pred = mnb.predict(X_test)\n",
    "y_true = y_test\n",
    "\n",
    "from sklearn.metrics import accuracy_score\n",
    "print(\"accuracy_score:\", \"%0.3f\" % accuracy_score(y_true, y_pred))\n",
    "\n",
    "from sklearn.metrics import precision_score\n",
    "print(\"precision_score:\", \"%0.3f\" % precision_score(y_true, y_pred))\n",
    "\n",
    "from sklearn.metrics import recall_score\n",
    "print(\"recall_score:\", \"%0.3f\" % recall_score(y_true, y_pred))\n",
    "\n",
    "from sklearn.metrics import f1_score\n",
    "print(\"f1_score:\", \"%0.3f\" % f1_score(y_true, y_pred,))"
   ]
  },
  {
   "cell_type": "markdown",
   "metadata": {
    "id": "yLpn8V8BHr5V"
   },
   "source": [
    "### ComplementNB"
   ]
  },
  {
   "cell_type": "code",
   "execution_count": null,
   "metadata": {
    "colab": {
     "base_uri": "https://localhost:8080/"
    },
    "executionInfo": {
     "elapsed": 970,
     "status": "ok",
     "timestamp": 1605659990033,
     "user": {
      "displayName": "Lucas Nascimento Barros",
      "photoUrl": "https://lh3.googleusercontent.com/a-/AOh14GgMbOheZVKIMjmrihjT2Y24WMIzMgfqdI5Qu3pY=s64",
      "userId": "06035058941685765175"
     },
     "user_tz": 180
    },
    "id": "U5av7WojIbNA",
    "outputId": "3e9e8266-f225-4e6a-fb51-f3468b42d420"
   },
   "outputs": [
    {
     "name": "stderr",
     "output_type": "stream",
     "text": [
      "/usr/local/lib/python3.6/dist-packages/sklearn/utils/validation.py:760: DataConversionWarning: A column-vector y was passed when a 1d array was expected. Please change the shape of y to (n_samples, ), for example using ravel().\n",
      "  y = column_or_1d(y, warn=True)\n"
     ]
    },
    {
     "data": {
      "text/plain": [
       "ComplementNB(alpha=1.0, class_prior=None, fit_prior=True, norm=False)"
      ]
     },
     "execution_count": 80,
     "metadata": {
      "tags": []
     },
     "output_type": "execute_result"
    }
   ],
   "source": [
    "from sklearn.naive_bayes import ComplementNB\n",
    "cnb = ComplementNB()\n",
    "cnb.fit(X_train, y_train)"
   ]
  },
  {
   "cell_type": "code",
   "execution_count": null,
   "metadata": {
    "colab": {
     "base_uri": "https://localhost:8080/"
    },
    "executionInfo": {
     "elapsed": 966,
     "status": "ok",
     "timestamp": 1605659990033,
     "user": {
      "displayName": "Lucas Nascimento Barros",
      "photoUrl": "https://lh3.googleusercontent.com/a-/AOh14GgMbOheZVKIMjmrihjT2Y24WMIzMgfqdI5Qu3pY=s64",
      "userId": "06035058941685765175"
     },
     "user_tz": 180
    },
    "id": "oUdpdu7eIntS",
    "outputId": "6f9e7b6c-d578-482d-8036-9209c7e0c1ca"
   },
   "outputs": [
    {
     "data": {
      "text/plain": [
       "0.8204199855177408"
      ]
     },
     "execution_count": 81,
     "metadata": {
      "tags": []
     },
     "output_type": "execute_result"
    }
   ],
   "source": [
    "cnb.score(X_test,y_test)"
   ]
  },
  {
   "cell_type": "code",
   "execution_count": null,
   "metadata": {
    "colab": {
     "base_uri": "https://localhost:8080/"
    },
    "executionInfo": {
     "elapsed": 962,
     "status": "ok",
     "timestamp": 1605659990033,
     "user": {
      "displayName": "Lucas Nascimento Barros",
      "photoUrl": "https://lh3.googleusercontent.com/a-/AOh14GgMbOheZVKIMjmrihjT2Y24WMIzMgfqdI5Qu3pY=s64",
      "userId": "06035058941685765175"
     },
     "user_tz": 180
    },
    "id": "Ok4Gbeq4JTzs",
    "outputId": "22cdbcdf-8602-490c-cc06-1aef4e151ea1"
   },
   "outputs": [
    {
     "name": "stdout",
     "output_type": "stream",
     "text": [
      "              precision    recall  f1-score   support\n",
      "\n",
      "           0       0.87      0.83      0.85       831\n",
      "           1       0.76      0.81      0.78       550\n",
      "\n",
      "    accuracy                           0.82      1381\n",
      "   macro avg       0.81      0.82      0.81      1381\n",
      "weighted avg       0.82      0.82      0.82      1381\n",
      "\n",
      "confusion_matrix\n",
      "[[687 144]\n",
      " [104 446]]\n"
     ]
    }
   ],
   "source": [
    "y_pred = cnb.predict(X_test)\n",
    "y_true = y_test\n",
    "\n",
    "from sklearn.metrics import classification_report\n",
    "# print(classification_report(y_true'', y_pred, target_names=target_names))\n",
    "print(classification_report(y_true, y_pred))\n",
    "\n",
    "from sklearn.metrics import confusion_matrix\n",
    "cm = confusion_matrix(y_true, y_pred)\n",
    "\n",
    "print('confusion_matrix')\n",
    "print(cm)"
   ]
  },
  {
   "cell_type": "code",
   "execution_count": null,
   "metadata": {
    "colab": {
     "base_uri": "https://localhost:8080/"
    },
    "executionInfo": {
     "elapsed": 958,
     "status": "ok",
     "timestamp": 1605659990034,
     "user": {
      "displayName": "Lucas Nascimento Barros",
      "photoUrl": "https://lh3.googleusercontent.com/a-/AOh14GgMbOheZVKIMjmrihjT2Y24WMIzMgfqdI5Qu3pY=s64",
      "userId": "06035058941685765175"
     },
     "user_tz": 180
    },
    "id": "HI8aeIR_00kr",
    "outputId": "aed0f7e7-47aa-4b7d-9aa2-4262ad9c9805"
   },
   "outputs": [
    {
     "name": "stdout",
     "output_type": "stream",
     "text": [
      "accuracy_score: 0.820\n",
      "precision_score: 0.756\n",
      "recall_score: 0.811\n",
      "f1_score: 0.782\n"
     ]
    }
   ],
   "source": [
    "y_pred = cnb.predict(X_test)\n",
    "y_true = y_test\n",
    "\n",
    "from sklearn.metrics import accuracy_score\n",
    "print(\"accuracy_score:\", \"%0.3f\" % accuracy_score(y_true, y_pred))\n",
    "\n",
    "from sklearn.metrics import precision_score\n",
    "print(\"precision_score:\", \"%0.3f\" % precision_score(y_true, y_pred))\n",
    "\n",
    "from sklearn.metrics import recall_score\n",
    "print(\"recall_score:\", \"%0.3f\" % recall_score(y_true, y_pred))\n",
    "\n",
    "from sklearn.metrics import f1_score\n",
    "print(\"f1_score:\", \"%0.3f\" % f1_score(y_true, y_pred,))"
   ]
  },
  {
   "cell_type": "markdown",
   "metadata": {
    "id": "CsriHK5lC8Hh"
   },
   "source": [
    "## Gráfico Matriz de Confusão"
   ]
  },
  {
   "cell_type": "code",
   "execution_count": null,
   "metadata": {
    "colab": {
     "base_uri": "https://localhost:8080/",
     "height": 330
    },
    "executionInfo": {
     "elapsed": 864,
     "status": "ok",
     "timestamp": 1605645521151,
     "user": {
      "displayName": "Lucas Nascimento Barros",
      "photoUrl": "https://lh3.googleusercontent.com/a-/AOh14GgMbOheZVKIMjmrihjT2Y24WMIzMgfqdI5Qu3pY=s64",
      "userId": "06035058941685765175"
     },
     "user_tz": 180
    },
    "id": "ovhH7uybxyeu",
    "outputId": "bafafbe8-33fe-439e-d00c-dd23fefdca09"
   },
   "outputs": [
    {
     "name": "stdout",
     "output_type": "stream",
     "text": [
      "confusion_matrix\n",
      "[[694 137]\n",
      " [139 411]]\n"
     ]
    },
    {
     "data": {
      "image/png": "[encoded data removed]",
      "text/plain": [
       "<Figure size 432x288 with 2 Axes>"
      ]
     },
     "metadata": {
      "needs_background": "light",
      "tags": []
     },
     "output_type": "display_data"
    }
   ],
   "source": [
    "# ConfusionMatrixDisplay KNN.\n",
    "\n",
    "y_pred = knn.predict(X_test)\n",
    "y_true = y_test\n",
    "\n",
    "from sklearn.metrics import confusion_matrix\n",
    "\n",
    "cm = confusion_matrix(y_true, y_pred)\n",
    "\n",
    "print('confusion_matrix')\n",
    "print(cm)\n",
    "\n",
    "from sklearn.metrics import ConfusionMatrixDisplay\n",
    "\n",
    "# class_names = y_pred\n",
    "class_names = ('0', '1')\n",
    "\n",
    "cm_display = ConfusionMatrixDisplay(cm, class_names).plot()"
   ]
  },
  {
   "cell_type": "code",
   "execution_count": null,
   "metadata": {
    "colab": {
     "base_uri": "https://localhost:8080/",
     "height": 712
    },
    "executionInfo": {
     "elapsed": 952,
     "status": "ok",
     "timestamp": 1605645519496,
     "user": {
      "displayName": "Lucas Nascimento Barros",
      "photoUrl": "https://lh3.googleusercontent.com/a-/AOh14GgMbOheZVKIMjmrihjT2Y24WMIzMgfqdI5Qu3pY=s64",
      "userId": "06035058941685765175"
     },
     "user_tz": 180
    },
    "id": "KXZ7ok6F_X0w",
    "outputId": "43cb1633-9af6-4535-860b-0bfb00a9e770"
   },
   "outputs": [
    {
     "name": "stderr",
     "output_type": "stream",
     "text": [
      "/usr/local/lib/python3.6/dist-packages/ipykernel_launcher.py:20: DataConversionWarning: A column-vector y was passed when a 1d array was expected. Please change the shape of y to (n_samples, ), for example using ravel().\n"
     ]
    },
    {
     "name": "stdout",
     "output_type": "stream",
     "text": [
      "Confusion matrix, without normalization\n",
      "[[694 137]\n",
      " [139 411]]\n",
      "Normalized confusion matrix\n",
      "[[0.84 0.16]\n",
      " [0.25 0.75]]\n"
     ]
    },
    {
     "data": {
      "image/png": "[encoded data removed]",
      "text/plain": [
       "<Figure size 432x288 with 2 Axes>"
      ]
     },
     "metadata": {
      "needs_background": "light",
      "tags": []
     },
     "output_type": "display_data"
    },
    {
     "data": {
      "image/png": "[encoded data removed]",
      "text/plain": [
       "<Figure size 432x288 with 2 Axes>"
      ]
     },
     "metadata": {
      "needs_background": "light",
      "tags": []
     },
     "output_type": "display_data"
    }
   ],
   "source": [
    "# plot_confusion_matrix KNN.\n",
    "\n",
    "import numpy as np\n",
    "import matplotlib.pyplot as plt\n",
    "from sklearn.neighbors import KNeighborsClassifier\n",
    "from sklearn import datasets\n",
    "from sklearn.model_selection import train_test_split\n",
    "from sklearn.metrics import plot_confusion_matrix\n",
    "\n",
    "df = df_spam\n",
    "X = df[columns_name[:-1]]\n",
    "y = df[['class_']]\n",
    "\n",
    "# class_names = df.class_\n",
    "# class_names = y_pred\n",
    "class_names = ('0', '1')\n",
    "\n",
    "X_train, X_test, y_train, y_test = train_test_split(X, y, test_size=0.3, random_state=84)\n",
    "\n",
    "classifier = KNeighborsClassifier(n_neighbors=3).fit(X_train, y_train)\n",
    "\n",
    "np.set_printoptions(precision=2)\n",
    "\n",
    "titles_options = [(\"Confusion matrix, without normalization\", None),\n",
    "                  (\"Normalized confusion matrix\", 'true')]\n",
    "for title, normalize in titles_options:\n",
    "    disp = plot_confusion_matrix(classifier, X_test, y_test,\n",
    "                                 display_labels=class_names,\n",
    "                                 cmap=plt.cm.Blues,\n",
    "                                 normalize=normalize)\n",
    "    disp.ax_.set_title(title)\n",
    "\n",
    "    print(title)\n",
    "    print(disp.confusion_matrix)\n",
    "\n",
    "plt.show()"
   ]
  },
  {
   "cell_type": "markdown",
   "metadata": {
    "id": "ph5MLeafLK53"
   },
   "source": [
    "## Validação Cruzada"
   ]
  },
  {
   "cell_type": "code",
   "execution_count": null,
   "metadata": {
    "colab": {
     "base_uri": "https://localhost:8080/"
    },
    "executionInfo": {
     "elapsed": 1927,
     "status": "ok",
     "timestamp": 1605660643548,
     "user": {
      "displayName": "Lucas Nascimento Barros",
      "photoUrl": "https://lh3.googleusercontent.com/a-/AOh14GgMbOheZVKIMjmrihjT2Y24WMIzMgfqdI5Qu3pY=s64",
      "userId": "06035058941685765175"
     },
     "user_tz": 180
    },
    "id": "tmeotHXzLNw9",
    "outputId": "eda34b14-2892-4c6c-d7c7-94a6622b29bf"
   },
   "outputs": [
    {
     "name": "stdout",
     "output_type": "stream",
     "text": [
      "Média da Acurácia GNB:  0.826\n",
      "Média da Acurácia MNB:  0.772\n",
      "Média da Acurácia CNB:  0.771\n"
     ]
    }
   ],
   "source": [
    "# Validação cruzada Naive Bayes\n",
    "\n",
    "from sklearn.model_selection import cross_val_score\n",
    "\n",
    "X = X_test\n",
    "y = y_test\n",
    "\n",
    "scores_gnb = cross_val_score(gnb, X, y, cv=5, scoring='accuracy', n_jobs=-1)\n",
    "scores_mnb = cross_val_score(mnb, X, y, cv=5, scoring='accuracy', n_jobs=-1)\n",
    "scores_cnb = cross_val_score(cnb, X, y, cv=5, scoring='accuracy', n_jobs=-1)\n",
    "\n",
    "# Imprime a média das validações cruzadas\n",
    "\n",
    "print(\"Média da Acurácia GNB: \", \"%0.3f\" % scores_gnb.mean())\n",
    "print(\"Média da Acurácia MNB: \", \"%0.3f\" %  scores_mnb.mean())\n",
    "print(\"Média da Acurácia CNB: \", \"%0.3f\" %  scores_cnb.mean())"
   ]
  },
  {
   "cell_type": "markdown",
   "metadata": {
    "id": "K3J3cWj_5aSZ"
   },
   "source": [
    "## Resposta"
   ]
  },
  {
   "cell_type": "markdown",
   "metadata": {
    "id": "ngFx1mxv5fd-"
   },
   "source": [
    "| Algoritmo               | Valores dos Parâmetros          | Acurácia | Precisão | Revocação | F1    |\n",
    "|-------------------------|---------------------------------|----------|----------|-----------|-------|\n",
    "| KNN                     | n_neighbors = 3                 | 0.800    | 0.750    | 0.747     | 0.749 |\n",
    "| SVM                     | C=1000, gamma=0.1, kernel='rbf' | 0.939    | 0.921    | 0.927     | 0.924 |\n",
    "| Árvore de Decisão       | max_depth=10                    | 0.915    | 0.899    | 0.885     | 0.892 |\n",
    "| Gaussian Naive Bayes    |                                 | 0.830    | 0.713    | 0.960     | 0.818 |\n",
    "| Multinomial Naive Bayes |                                 | 0.820    | 0.763    | 0.796     | 0.779 |\n",
    "| Complement Naive Bayes  |                                 | 0.820    | 0.756    | 0.811     | 0.782 |"
   ]
  },
  {
   "cell_type": "markdown",
   "metadata": {
    "id": "nA3GIFcQ5slr"
   },
   "source": [
    "Analisando os resultados obtidos o modelo SVM é o melhor em quase todas as métricas, com acurácia de 93%, precisão de 92% e F1 de 92%, somente sendo batido pelo Naive Bayes Gaussiano que obteve 96% de revocação. Já analisando o relatório de classsificação individualmente o modelo Gaussiano obeteve os resultados mais altos para precisão da classe 0(textos que não são spam) com 97% e revocação da classe 1(textos que são spam) com 96%, portanto se quiséssemos classificar individualmente as classes usaríamos o gaussiano para precisão e revocação, porém, o SVM é bem próximo e bem mais balanceado entre as classes."
   ]
  }
 ],
 "metadata": {
  "colab": {
   "collapsed_sections": [],
   "name": "Cópia de Lucas Nascimento Barros - Lab501.ipynb",
   "provenance": [
    {
     "file_id": "1kgtseNMAHnTQ3Pm0s_H7PlAjaGyqpylV",
     "timestamp": 1605662762664
    },
    {
     "file_id": "1-b0juG1uuKuZFIJm0sORarfCwscYsRU1",
     "timestamp": 1605128481009
    }
   ],
   "toc_visible": true
  },
  "kernelspec": {
   "display_name": "Python 3 (ipykernel)",
   "language": "python",
   "name": "python3"
  },
  "language_info": {
   "codemirror_mode": {
    "name": "ipython",
    "version": 3
   },
   "file_extension": ".py",
   "mimetype": "text/x-python",
   "name": "python",
   "nbconvert_exporter": "python",
   "pygments_lexer": "ipython3",
   "version": "3.9.7"
  }
 },
 "nbformat": 4,
 "nbformat_minor": 1
}
